{
  "nbformat": 4,
  "nbformat_minor": 0,
  "metadata": {
    "colab": {
      "name": "Hardik_Sharma_Assignment_3.ipynb",
      "provenance": [],
      "authorship_tag": "ABX9TyMXM/VUn4l4p/iCc5dDzoUV",
      "include_colab_link": true
    },
    "kernelspec": {
      "name": "python3",
      "display_name": "Python 3"
    }
  },
  "cells": [
    {
      "cell_type": "markdown",
      "metadata": {
        "id": "view-in-github",
        "colab_type": "text"
      },
      "source": [
        "<a href=\"https://colab.research.google.com/github/Hardik0175/Graph_Mining/blob/main/Hardik_Sharma_Assignment_3.ipynb\" target=\"_parent\"><img src=\"https://colab.research.google.com/assets/colab-badge.svg\" alt=\"Open In Colab\"/></a>"
      ]
    },
    {
      "cell_type": "code",
      "metadata": {
        "id": "LfxbbOeNpjnR"
      },
      "source": [
        "!apt-get install libcairo2-dev libjpeg-dev libgif-dev\n",
        "!pip install pycairo\n",
        "!pip install python-igraph\n",
        "!pip install plfit\n",
        "!pip install networkx"
      ],
      "execution_count": null,
      "outputs": []
    },
    {
      "cell_type": "code",
      "metadata": {
        "id": "8z6GmIpKpw0H",
        "outputId": "85abc296-7f40-47cc-8574-744159f29694",
        "colab": {
          "base_uri": "https://localhost:8080/"
        }
      },
      "source": [
        "datadir='/content/gdrive/My Drive/Datasets/'\n",
        "## for loading dataset from google drive\n",
        "\n",
        "from google.colab import drive\n",
        "drive.mount('/content/gdrive')"
      ],
      "execution_count": null,
      "outputs": [
        {
          "output_type": "stream",
          "text": [
            "Mounted at /content/gdrive\n"
          ],
          "name": "stdout"
        }
      ]
    },
    {
      "cell_type": "code",
      "metadata": {
        "id": "_wHXFku3pyHt"
      },
      "source": [
        "import igraph as ig\n",
        "import numpy as np\n",
        "import pandas as pd\n",
        "import matplotlib.pyplot as plt\n",
        "from sklearn.linear_model import LinearRegression\n",
        "from collections import Counter\n"
      ],
      "execution_count": 65,
      "outputs": []
    },
    {
      "cell_type": "code",
      "metadata": {
        "id": "6j3JN5pnp0oi"
      },
      "source": [
        "D = pd.read_csv(datadir+'GitHubDevelopers/musae_git_edges.csv')\n",
        "tuples = [tuple(x) for x in D.values]\n",
        "gh = ig.Graph.TupleList(tuples, directed = False)\n"
      ],
      "execution_count": 93,
      "outputs": []
    },
    {
      "cell_type": "code",
      "metadata": {
        "id": "1yU_nW7wj01A"
      },
      "source": [
        "X = pd.read_csv(datadir+'GitHubDevelopers/musae_git_target.csv')\n",
        "idx = [int(i) for i in gh.vs['name']]\n",
        "sorterIndex = dict(zip(idx,range(len(idx))))\n",
        "X['Rank'] = X['id'].map(sorterIndex)\n",
        "X.sort_values(['Rank'], ascending=[True],inplace=True)\n",
        "X.dropna(inplace=True)\n",
        "gh.vs['target'] = list(X['ml_target'])\n",
        "cls = ['grey','black']\n",
        "lbl = ['web','ml']\n",
        "gh.vs['color'] = [cls[i] for i in list(X['ml_target'])]\n",
        "gh.vs['lbl'] = [lbl[i] for i in list(X['ml_target'])]\n",
        "gh.es['color'] = 'grey'"
      ],
      "execution_count": 95,
      "outputs": []
    },
    {
      "cell_type": "code",
      "metadata": {
        "id": "69E61CjwEnhe"
      },
      "source": [
        "def deg_corr_directed(G, mode1='all', mode2='all'):\n",
        "    idx = {v:k for k,v in enumerate([i for i in set(G.degree(mode=mode1))])}\n",
        "    idx_inv = {k:v for k,v in enumerate(idx)}\n",
        "    deg = G.degree(mode=mode2)\n",
        "    L = [[] for i in range(len(idx))]\n",
        "    for v in G.vs():\n",
        "        w = [deg[i] for i in list(set(G.neighbors(v, mode='out')))]\n",
        "        L[idx[v.degree(mode=mode1)]].extend(w)\n",
        "    return {idx_inv[i]:np.mean(L[i]) for i in range(len(L))}\n",
        "def deg_corr(G):\n",
        "    idx = {v:k for k,v in enumerate([i for i in set(G.degree())])}\n",
        "    idx_inv = {k:v for k,v in enumerate(idx)}\n",
        "    deg = G.degree()\n",
        "    L = [[] for i in range(len(idx))]\n",
        "    for v in G.vs():\n",
        "        w = [deg[i] for i in list(set(G.neighbors(v)))]\n",
        "        L[idx[v.degree()]].extend(w)\n",
        "    return {idx_inv[i]:np.mean(L[i]) for i in range(len(L))}\n",
        "\n",
        "## degree correlation for neutral graphs\n",
        "## can also be computed as <k^2>/<k>\n",
        "def deg_corr_random(G):\n",
        "    deg = G.degree()\n",
        "    L = []\n",
        "    for v in G.vs():\n",
        "        w = [deg[i] for i in list(set(G.neighbors(v)))]\n",
        "        L.extend(w)\n",
        "    return np.mean(L)\n",
        "\n",
        "def deg_uncorr(G):\n",
        "  deg = G.degree()\n",
        "  k = np.average(deg)\n",
        "  var = np.var(deg)\n",
        "  value = (k**2+var)/k\n",
        "  return value\n",
        "\n",
        "def deg_corr_random_directed(G, mode='all'):\n",
        "    deg = G.degree(mode=mode)\n",
        "    L = []\n",
        "    for v in G.vs():\n",
        "        w = [deg[i] for i in list(set(G.neighbors(v,mode='out')))]\n",
        "        L.extend(w)\n",
        "    return np.mean(L)\n",
        "\n",
        "## Correlation exponent via linear regression (taking logs)\n",
        "def corr_exp(G):\n",
        "    ## compute knn's\n",
        "    knn = deg_corr(G)\n",
        "    # Fit the regression\n",
        "    regressor = LinearRegression()  \n",
        "    x = [np.log(i) for i in knn.keys()]\n",
        "    y = [np.log(i) for i in knn.values()]\n",
        "    x = np.nan_to_num(x)\n",
        "    y = np.nan_to_num(y)\n",
        "    regressor.fit(np.array(x).reshape(-1,1), y)\n",
        "    return regressor.coef_[0]\n",
        "\n",
        "def richClub(g, l=1):\n",
        "    g.vs()['degree'] = g.degree()\n",
        "    l_max = np.max(g.degree())\n",
        "    c = Counter(g.degree())\n",
        "    n = g.vcount()\n",
        "    moment = np.sum([k*c[k]/n for k in c])**2\n",
        "    S = [k*c[k]/n for k in c if k>=l]\n",
        "    phi_hat = np.sum([x*y for x in S for y in S])*g.ecount()/moment\n",
        "    G = g.subgraph([v for v in g.vs() if v['degree']>=l])\n",
        "    phi = G.ecount()\n",
        "    return phi/phi_hat     \n"
      ],
      "execution_count": 128,
      "outputs": []
    },
    {
      "cell_type": "code",
      "metadata": {
        "id": "HQItu7KyRrBh"
      },
      "source": [
        "## build the subgraphs\n",
        "gh_ml = gh.subgraph([v for v in gh.vs() if v['lbl']=='ml'])\n",
        "gh_web = gh.subgraph([v for v in gh.vs() if v['lbl']=='web'])"
      ],
      "execution_count": 176,
      "outputs": []
    },
    {
      "cell_type": "markdown",
      "metadata": {
        "id": "cy-Hk5uNRfiN"
      },
      "source": [
        "# Problem 1"
      ]
    },
    {
      "cell_type": "markdown",
      "metadata": {
        "id": "FM_ikq3WUNyr"
      },
      "source": [
        "a. Original Graph"
      ]
    },
    {
      "cell_type": "code",
      "metadata": {
        "id": "enJ2QlwGkCby",
        "outputId": "75218d8a-9d4e-474c-8e03-33abb24f3185",
        "colab": {
          "base_uri": "https://localhost:8080/",
          "height": 322
        }
      },
      "source": [
        "## degree correlation function\n",
        "knn = deg_corr(gh)\n",
        "x = list(knn.keys())\n",
        "y = list(knn.values())\n",
        "idx = np.random.choice(len(x),100,replace=False)\n",
        "r = deg_uncorr(gh)\n",
        "plt.xlim((0,LIM))\n",
        "plt.scatter(x,y,marker='.',c='black')\n",
        "plt.hlines(y=r,xmin=min(x),xmax=max(x),linestyles=':')\n",
        "plt.xlabel(r'degree ($\\ell$)',fontsize=12)\n",
        "plt.ylabel(r'$k_{nn}(\\ell)$',fontsize=12);\n",
        "#plt.savefig('degree_corr_github.eps')\n",
        "mu = corr_exp(gh)\n",
        "print('Degree correlation coefficient r: ' + str(r))\n",
        "print('Correlation exponent mu:' + str(mu))"
      ],
      "execution_count": 130,
      "outputs": [
        {
          "output_type": "stream",
          "text": [
            "Degree correlation coefficient r: 441.020594941921\n",
            "Correlation exponent mu:-0.5076879013701244\n"
          ],
          "name": "stdout"
        },
        {
          "output_type": "display_data",
          "data": {
            "image/png": "[encoded data removed]",
            "text/plain": [
              "<Figure size 432x288 with 1 Axes>"
            ]
          },
          "metadata": {
            "tags": [],
            "needs_background": "light"
          }
        }
      ]
    },
    {
      "cell_type": "code",
      "metadata": {
        "id": "MphfPQWkT4ZG",
        "outputId": "d4afdff1-138e-44cc-c4a6-419282d37da9",
        "colab": {
          "base_uri": "https://localhost:8080/",
          "height": 290
        }
      },
      "source": [
        "d = list(set(gh.degree()))\n",
        "rc = []\n",
        "for i in d:\n",
        "    rc.append(richClub(gh, l=i))\n",
        "plt.semilogx(d,rc,'.',c='black')\n",
        "plt.xlabel(r'degree $\\ell$',fontsize=12)\n",
        "plt.ylabel(r'rich club coefficient $\\rho(\\ell)$');\n",
        "#plt.savefig('rich_club.eps');"
      ],
      "execution_count": 131,
      "outputs": [
        {
          "output_type": "display_data",
          "data": {
            "image/png": "[encoded data removed]",
            "text/plain": [
              "<Figure size 432x288 with 1 Axes>"
            ]
          },
          "metadata": {
            "tags": [],
            "needs_background": "light"
          }
        }
      ]
    },
    {
      "cell_type": "markdown",
      "metadata": {
        "id": "6-raIi-SUdde"
      },
      "source": [
        "b. Developer ML"
      ]
    },
    {
      "cell_type": "code",
      "metadata": {
        "id": "0MrTXK_UC0Ud",
        "outputId": "c222fa0e-0adc-408f-b05b-d690fa46588d",
        "colab": {
          "base_uri": "https://localhost:8080/",
          "height": 446
        }
      },
      "source": [
        "## degree correlation function\n",
        "knn = deg_corr(gh_ml)\n",
        "x = list(knn.keys())\n",
        "y = list(knn.values())\n",
        "idx = np.random.choice(len(x),100,replace=False)\n",
        "r = deg_uncorr(gh_ml)\n",
        "plt.xlim((0,LIM))\n",
        "plt.scatter(x,y,marker='.',c='black')\n",
        "plt.hlines(y=r,xmin=min(x),xmax=max(x),linestyles=':')\n",
        "plt.xlabel(r'degree ($\\ell$)',fontsize=12)\n",
        "plt.ylabel(r'$k_{nn}(\\ell)$',fontsize=12);\n",
        "#plt.savefig('degree_corr_github.eps')\n",
        "mu = corr_exp(gh_ml)\n",
        "print('\\n')\n",
        "print('Degree correlation coefficient r: ' + str(r))\n",
        "print('Correlation exponent mu:' + str(mu))"
      ],
      "execution_count": 137,
      "outputs": [
        {
          "output_type": "stream",
          "text": [
            "/usr/local/lib/python3.6/dist-packages/numpy/core/fromnumeric.py:3335: RuntimeWarning: Mean of empty slice.\n",
            "  out=out, **kwargs)\n",
            "/usr/local/lib/python3.6/dist-packages/numpy/core/_methods.py:161: RuntimeWarning: invalid value encountered in double_scalars\n",
            "  ret = ret.dtype.type(ret / rcount)\n",
            "/usr/local/lib/python3.6/dist-packages/ipykernel_launcher.py:52: RuntimeWarning: divide by zero encountered in log\n"
          ],
          "name": "stderr"
        },
        {
          "output_type": "stream",
          "text": [
            "\n",
            "\n",
            "Degree correlation coefficient r: 36.43680146311726\n",
            "Correlation exponent mu:1.8306636739345343e-308\n"
          ],
          "name": "stdout"
        },
        {
          "output_type": "display_data",
          "data": {
            "image/png": "[encoded data removed]",
            "text/plain": [
              "<Figure size 432x288 with 1 Axes>"
            ]
          },
          "metadata": {
            "tags": [],
            "needs_background": "light"
          }
        }
      ]
    },
    {
      "cell_type": "code",
      "metadata": {
        "id": "dTIXuNBNUosn",
        "outputId": "eb1d440f-012a-4556-a44c-9bab96f6cf7c",
        "colab": {
          "base_uri": "https://localhost:8080/",
          "height": 290
        }
      },
      "source": [
        "d = list(set(gh_ml.degree()))\n",
        "rc = []\n",
        "for i in d:\n",
        "    rc.append(richClub(gh_ml, l=i))\n",
        "plt.semilogx(d,rc,'.',c='black')\n",
        "plt.xlabel(r'degree $\\ell$',fontsize=12)\n",
        "plt.ylabel(r'rich club coefficient $\\rho(\\ell)$');\n",
        "#plt.savefig('rich_club.eps');"
      ],
      "execution_count": 133,
      "outputs": [
        {
          "output_type": "display_data",
          "data": {
            "image/png": "[encoded data removed]",
            "text/plain": [
              "<Figure size 432x288 with 1 Axes>"
            ]
          },
          "metadata": {
            "tags": [],
            "needs_background": "light"
          }
        }
      ]
    },
    {
      "cell_type": "markdown",
      "metadata": {
        "id": "evCwRZVbUvLC"
      },
      "source": [
        "c. Developer Web"
      ]
    },
    {
      "cell_type": "code",
      "metadata": {
        "id": "iTbrB9QXUyCa",
        "outputId": "776ba92c-b74c-4db1-fbca-28725f376a66",
        "colab": {
          "base_uri": "https://localhost:8080/",
          "height": 445
        }
      },
      "source": [
        "## degree correlation function\n",
        "knn = deg_corr(gh_web)\n",
        "x = list(knn.keys())\n",
        "y = list(knn.values())\n",
        "idx = np.random.choice(len(x),100,replace=False)\n",
        "r = deg_uncorr(gh_web)\n",
        "plt.xlim((0,LIM))\n",
        "plt.scatter(x,y,marker='.',c='black')\n",
        "plt.hlines(y=r,xmin=min(x),xmax=max(x),linestyles=':')\n",
        "plt.xlabel(r'degree ($\\ell$)',fontsize=12)\n",
        "plt.ylabel(r'$k_{nn}(\\ell)$',fontsize=12);\n",
        "#plt.savefig('degree_corr_github.eps')\n",
        "mu = corr_exp(gh_web)\n",
        "print('\\n')\n",
        "print('Degree correlation coefficient r: ' + str(r))\n",
        "print('Correlation exponent mu:' + str(mu))"
      ],
      "execution_count": 138,
      "outputs": [
        {
          "output_type": "stream",
          "text": [
            "/usr/local/lib/python3.6/dist-packages/numpy/core/fromnumeric.py:3335: RuntimeWarning: Mean of empty slice.\n",
            "  out=out, **kwargs)\n",
            "/usr/local/lib/python3.6/dist-packages/numpy/core/_methods.py:161: RuntimeWarning: invalid value encountered in double_scalars\n",
            "  ret = ret.dtype.type(ret / rcount)\n",
            "/usr/local/lib/python3.6/dist-packages/ipykernel_launcher.py:52: RuntimeWarning: divide by zero encountered in log\n"
          ],
          "name": "stderr"
        },
        {
          "output_type": "stream",
          "text": [
            "\n",
            "\n",
            "Degree correlation coefficient r: 420.3915627518108\n",
            "Correlation exponent mu:2.900613617079679e-308\n"
          ],
          "name": "stdout"
        },
        {
          "output_type": "display_data",
          "data": {
            "image/png": "[encoded data removed]",
            "text/plain": [
              "<Figure size 432x288 with 1 Axes>"
            ]
          },
          "metadata": {
            "tags": [],
            "needs_background": "light"
          }
        }
      ]
    },
    {
      "cell_type": "code",
      "metadata": {
        "id": "UXQMyFFsi0pe",
        "outputId": "890ff6ef-8bfc-40b3-9e1a-ae4e98709353",
        "colab": {
          "base_uri": "https://localhost:8080/",
          "height": 290
        }
      },
      "source": [
        "d = list(set(gh_web.degree()))\n",
        "rc = []\n",
        "for i in d:\n",
        "    rc.append(richClub(gh_web, l=i))\n",
        "plt.semilogx(d,rc,'.',c='black')\n",
        "plt.xlabel(r'degree $\\ell$',fontsize=12)\n",
        "plt.ylabel(r'rich club coefficient $\\rho(\\ell)$');\n",
        "#plt.savefig('rich_club.eps');"
      ],
      "execution_count": 213,
      "outputs": [
        {
          "output_type": "display_data",
          "data": {
            "image/png": "[encoded data removed]",
            "text/plain": [
              "<Figure size 432x288 with 1 Axes>"
            ]
          },
          "metadata": {
            "tags": [],
            "needs_background": "light"
          }
        }
      ]
    },
    {
      "cell_type": "markdown",
      "metadata": {
        "id": "G0jSfBKmYyWd"
      },
      "source": [
        "# Problem 2"
      ]
    },
    {
      "cell_type": "markdown",
      "metadata": {
        "id": "ze9UBomRY8C0"
      },
      "source": [
        "Running it on '*GitHub ML developers*' because of long runtime for long one"
      ]
    },
    {
      "cell_type": "code",
      "metadata": {
        "id": "7wt1F1uJOoIO",
        "outputId": "5cbb22ee-4161-4ecf-dfd4-9b2b380edc2e",
        "colab": {
          "base_uri": "https://localhost:8080/",
          "height": 375
        }
      },
      "source": [
        "## degree correlation function\n",
        "knn = deg_corr(gh_ml)\n",
        "x = list(knn.keys())\n",
        "y = list(knn.values())\n",
        "idx = np.random.choice(len(x),100,replace=False)\n",
        "r = deg_corr_random(gh_ml)\n",
        "plt.xlim((0,LIM))\n",
        "plt.scatter(x,y,marker='.',c='black')\n",
        "plt.hlines(y=r,xmin=min(x),xmax=max(x),linestyles=':')\n",
        "plt.xlabel(r'degree ($\\ell$)',fontsize=12)\n",
        "plt.ylabel(r'$k_{nn}(\\ell)$',fontsize=12);\n",
        "#plt.savefig('degree_corr_github.eps')\n",
        "r"
      ],
      "execution_count": 182,
      "outputs": [
        {
          "output_type": "stream",
          "text": [
            "/usr/local/lib/python3.6/dist-packages/numpy/core/fromnumeric.py:3335: RuntimeWarning: Mean of empty slice.\n",
            "  out=out, **kwargs)\n",
            "/usr/local/lib/python3.6/dist-packages/numpy/core/_methods.py:161: RuntimeWarning: invalid value encountered in double_scalars\n",
            "  ret = ret.dtype.type(ret / rcount)\n"
          ],
          "name": "stderr"
        },
        {
          "output_type": "execute_result",
          "data": {
            "text/plain": [
              "36.436801463117256"
            ]
          },
          "metadata": {
            "tags": []
          },
          "execution_count": 182
        },
        {
          "output_type": "display_data",
          "data": {
            "image/png": "[encoded data removed]",
            "text/plain": [
              "<Figure size 432x288 with 1 Axes>"
            ]
          },
          "metadata": {
            "tags": [],
            "needs_background": "light"
          }
        }
      ]
    },
    {
      "cell_type": "code",
      "metadata": {
        "id": "9dQRvgEvZYZL"
      },
      "source": [
        "## Xulvi-Brunet and Sokolov algorithm\n",
        "def switching(gh):\n",
        "    g = gh.copy()\n",
        "    g.es['touched'] = False\n",
        "    ec = g.ecount()\n",
        "    i = 0 \n",
        "    while True:\n",
        "        re = np.random.choice(ec, 2, replace=False)\n",
        "        nodes = list(g.es[re[0]].tuple+g.es[re[1]].tuple)\n",
        "        i+=1\n",
        "        if len(set(nodes))==4:\n",
        "            ## with proba q, wire w.r.t. assortativity, else randomly\n",
        "            np.random.shuffle(nodes)\n",
        "            e1 = (nodes[0],nodes[3])\n",
        "            e2 = (nodes[1],nodes[2])\n",
        "            if g.get_eid(e1[0], e1[1], directed=False, error=False)+\\\n",
        "               g.get_eid(e2[0], e2[1], directed=False, error=False) == -2:\n",
        "                    g.delete_edges(re)\n",
        "                    g.add_edge(e1[0],e1[1],touched=True)\n",
        "                    g.add_edge(e2[0],e2[1],touched=True)\n",
        "            else:\n",
        "                g.es[re[0]]['touched']=True\n",
        "                g.es[re[1]]['touched']=True\n",
        "        \n",
        "        if sum(g.es['touched']) == g.ecount():\n",
        "            break\n",
        "    return g"
      ],
      "execution_count": 178,
      "outputs": []
    },
    {
      "cell_type": "code",
      "metadata": {
        "id": "nDDkmqoVZcSh"
      },
      "source": [
        "gh_ml_rand = switching(gh_ml)"
      ],
      "execution_count": 179,
      "outputs": []
    },
    {
      "cell_type": "code",
      "metadata": {
        "id": "s1cvcqWYOrv0",
        "outputId": "22cfd1e0-8713-443a-807d-fc177d0c5ddb",
        "colab": {
          "base_uri": "https://localhost:8080/",
          "height": 374
        }
      },
      "source": [
        "## degree correlation function\n",
        "knn = deg_corr(gh_ml_rand)\n",
        "x = list(knn.keys())\n",
        "y = list(knn.values())\n",
        "idx = np.random.choice(len(x),100,replace=False)\n",
        "r = deg_corr_random(gh_ml_rand)\n",
        "plt.xlim((0,LIM))\n",
        "plt.scatter(x,y,marker='.',c='black')\n",
        "plt.hlines(y=r,xmin=min(x),xmax=max(x),linestyles=':')\n",
        "plt.xlabel(r'degree ($\\ell$)',fontsize=12)\n",
        "plt.ylabel(r'$k_{nn}(\\ell)$',fontsize=12);\n",
        "#plt.savefig('degree_corr_github.eps')\n",
        "r"
      ],
      "execution_count": 181,
      "outputs": [
        {
          "output_type": "stream",
          "text": [
            "/usr/local/lib/python3.6/dist-packages/numpy/core/fromnumeric.py:3335: RuntimeWarning: Mean of empty slice.\n",
            "  out=out, **kwargs)\n",
            "/usr/local/lib/python3.6/dist-packages/numpy/core/_methods.py:161: RuntimeWarning: invalid value encountered in double_scalars\n",
            "  ret = ret.dtype.type(ret / rcount)\n"
          ],
          "name": "stderr"
        },
        {
          "output_type": "execute_result",
          "data": {
            "text/plain": [
              "36.436801463117256"
            ]
          },
          "metadata": {
            "tags": []
          },
          "execution_count": 181
        },
        {
          "output_type": "display_data",
          "data": {
            "image/png": "[encoded data removed]",
            "text/plain": [
              "<Figure size 432x288 with 1 Axes>"
            ]
          },
          "metadata": {
            "tags": [],
            "needs_background": "light"
          }
        }
      ]
    },
    {
      "cell_type": "markdown",
      "metadata": {
        "id": "3YD-RYSTtdsD"
      },
      "source": [
        "For '*Web Developers*' graph the plot become more concentrated at certain space and slope is decreasing"
      ]
    },
    {
      "cell_type": "markdown",
      "metadata": {
        "id": "0JslCoZ2hGdM"
      },
      "source": [
        "# Problem 3"
      ]
    },
    {
      "cell_type": "code",
      "metadata": {
        "id": "al3ghjdXhLtu"
      },
      "source": [
        "## Xulvi-Brunet and Sokolov algorithm\n",
        "def cm_edge_switching(gh,c):\n",
        "    g = gh.copy()\n",
        "    g.es['touched'] = False\n",
        "    ec = g.ecount()\n",
        "    m = g.ecount()\n",
        "    i = 0 \n",
        "    iteration = c*m/2\n",
        "    while True:\n",
        "        re = np.random.choice(ec, 2, replace=False)\n",
        "        nodes = list(g.es[re[0]].tuple+g.es[re[1]].tuple)\n",
        "        i+=1\n",
        "        if len(set(nodes))==4:\n",
        "            ## with proba q, wire w.r.t. assortativity, else randomly\n",
        "            np.random.shuffle(nodes)\n",
        "            e1 = (nodes[0],nodes[3])\n",
        "            e2 = (nodes[1],nodes[2])\n",
        "            if g.get_eid(e1[0], e1[1], directed=False, error=False)+\\\n",
        "               g.get_eid(e2[0], e2[1], directed=False, error=False) == -2:\n",
        "                    g.delete_edges(re)\n",
        "                    g.add_edge(e1[0],e1[1],touched=True)\n",
        "                    g.add_edge(e2[0],e2[1],touched=True)\n",
        "            else:\n",
        "                g.es[re[0]]['touched']=True\n",
        "                g.es[re[1]]['touched']=True\n",
        "        if sum(g.es['touched']) == g.ecount() or i==iteration:\n",
        "            break\n",
        "    return g"
      ],
      "execution_count": 183,
      "outputs": []
    },
    {
      "cell_type": "markdown",
      "metadata": {
        "id": "xCP6Ft1SjBR0"
      },
      "source": [
        "c =  0.5"
      ]
    },
    {
      "cell_type": "code",
      "metadata": {
        "id": "SI4RxDPscets",
        "outputId": "840a3e07-5d4d-49b0-d0af-d71ddaf35d47",
        "colab": {
          "base_uri": "https://localhost:8080/",
          "height": 357
        }
      },
      "source": [
        "gh_ml_1 = cm_edge_switching(gh_ml,0.5)\n",
        "\n",
        "## degree correlation function\n",
        "knn = deg_corr(gh_ml_1)\n",
        "x = list(knn.keys())\n",
        "y = list(knn.values())\n",
        "idx = np.random.choice(len(x),100,replace=False)\n",
        "r = deg_corr_random(gh_ml_1)\n",
        "plt.xlim((0,LIM))\n",
        "plt.scatter(x,y,marker='.',c='black')\n",
        "plt.hlines(y=r,xmin=min(x),xmax=max(x),linestyles=':')\n",
        "plt.xlabel(r'degree ($\\ell$)',fontsize=12)\n",
        "plt.ylabel(r'$k_{nn}(\\ell)$',fontsize=12);\n",
        "#plt.savefig('degree_corr_github.eps')\n",
        "r\n",
        "inter_ml_1 = ig.intersection([gh_ml,gh_ml_1])\n",
        "count1 = inter_ml_1.ecount()"
      ],
      "execution_count": 185,
      "outputs": [
        {
          "output_type": "stream",
          "text": [
            "/usr/local/lib/python3.6/dist-packages/numpy/core/fromnumeric.py:3335: RuntimeWarning: Mean of empty slice.\n",
            "  out=out, **kwargs)\n",
            "/usr/local/lib/python3.6/dist-packages/numpy/core/_methods.py:161: RuntimeWarning: invalid value encountered in double_scalars\n",
            "  ret = ret.dtype.type(ret / rcount)\n"
          ],
          "name": "stderr"
        },
        {
          "output_type": "display_data",
          "data": {
            "image/png": "[encoded data removed]",
            "text/plain": [
              "<Figure size 432x288 with 1 Axes>"
            ]
          },
          "metadata": {
            "tags": [],
            "needs_background": "light"
          }
        }
      ]
    },
    {
      "cell_type": "markdown",
      "metadata": {
        "id": "Ls-_zr7xjV7F"
      },
      "source": [
        "c = 1"
      ]
    },
    {
      "cell_type": "code",
      "metadata": {
        "id": "SSn9JehRc8fn",
        "outputId": "b0678276-bfff-4575-b4cd-4e4dbadd646f",
        "colab": {
          "base_uri": "https://localhost:8080/",
          "height": 358
        }
      },
      "source": [
        "gh_ml_2 = cm_edge_switching(gh_ml,1)\n",
        "\n",
        "## degree correlation function\n",
        "knn = deg_corr(gh_ml_2)\n",
        "x = list(knn.keys())\n",
        "y = list(knn.values())\n",
        "idx = np.random.choice(len(x),100,replace=False)\n",
        "r = deg_corr_random(gh_ml_2)\n",
        "plt.xlim((0,LIM))\n",
        "plt.scatter(x,y,marker='.',c='black')\n",
        "plt.hlines(y=r,xmin=min(x),xmax=max(x),linestyles=':')\n",
        "plt.xlabel(r'degree ($\\ell$)',fontsize=12)\n",
        "plt.ylabel(r'$k_{nn}(\\ell)$',fontsize=12);\n",
        "#plt.savefig('degree_corr_github.eps')\n",
        "r\n",
        "inter_ml_2 = ig.intersection([gh_ml,gh_ml_2])\n",
        "count2 = inter_ml_2.ecount()"
      ],
      "execution_count": 186,
      "outputs": [
        {
          "output_type": "stream",
          "text": [
            "/usr/local/lib/python3.6/dist-packages/numpy/core/fromnumeric.py:3335: RuntimeWarning: Mean of empty slice.\n",
            "  out=out, **kwargs)\n",
            "/usr/local/lib/python3.6/dist-packages/numpy/core/_methods.py:161: RuntimeWarning: invalid value encountered in double_scalars\n",
            "  ret = ret.dtype.type(ret / rcount)\n"
          ],
          "name": "stderr"
        },
        {
          "output_type": "display_data",
          "data": {
            "image/png": "[encoded data removed]",
            "text/plain": [
              "<Figure size 432x288 with 1 Axes>"
            ]
          },
          "metadata": {
            "tags": [],
            "needs_background": "light"
          }
        }
      ]
    },
    {
      "cell_type": "markdown",
      "metadata": {
        "id": "B0FPl6bKjeju"
      },
      "source": [
        "c = 2"
      ]
    },
    {
      "cell_type": "code",
      "metadata": {
        "id": "ceTXH0k9jjVi",
        "outputId": "1a80402a-367a-4e23-b0c9-985eefd59c7f",
        "colab": {
          "base_uri": "https://localhost:8080/",
          "height": 357
        }
      },
      "source": [
        "gh_ml_3 = cm_edge_switching(gh_ml,2)\n",
        "\n",
        "## degree correlation function\n",
        "knn = deg_corr(gh_ml_3)\n",
        "x = list(knn.keys())\n",
        "y = list(knn.values())\n",
        "idx = np.random.choice(len(x),100,replace=False)\n",
        "r = deg_corr_random(gh_ml_3)\n",
        "plt.xlim((0,LIM))\n",
        "plt.scatter(x,y,marker='.',c='black')\n",
        "plt.hlines(y=r,xmin=min(x),xmax=max(x),linestyles=':')\n",
        "plt.xlabel(r'degree ($\\ell$)',fontsize=12)\n",
        "plt.ylabel(r'$k_{nn}(\\ell)$',fontsize=12);\n",
        "#plt.savefig('degree_corr_github.eps')\n",
        "r\n",
        "inter_ml_3 = ig.intersection([gh_ml,gh_ml_3])\n",
        "count3 = inter_ml_3.ecount()"
      ],
      "execution_count": 187,
      "outputs": [
        {
          "output_type": "stream",
          "text": [
            "/usr/local/lib/python3.6/dist-packages/numpy/core/fromnumeric.py:3335: RuntimeWarning: Mean of empty slice.\n",
            "  out=out, **kwargs)\n",
            "/usr/local/lib/python3.6/dist-packages/numpy/core/_methods.py:161: RuntimeWarning: invalid value encountered in double_scalars\n",
            "  ret = ret.dtype.type(ret / rcount)\n"
          ],
          "name": "stderr"
        },
        {
          "output_type": "display_data",
          "data": {
            "image/png": "[encoded data removed]",
            "text/plain": [
              "<Figure size 432x288 with 1 Axes>"
            ]
          },
          "metadata": {
            "tags": [],
            "needs_background": "light"
          }
        }
      ]
    },
    {
      "cell_type": "code",
      "metadata": {
        "id": "-qJoT67osMe-",
        "outputId": "3a182660-815b-410f-e3f9-3c7cfc21dce5",
        "colab": {
          "base_uri": "https://localhost:8080/"
        }
      },
      "source": [
        "print('Count of edges not shifted for c(0.5) : ' + str(count1))\n",
        "print('Count of edges not shifted for c(1)   : ' + str(count2))\n",
        "print('Count of edges not shifted for c(2)   : ' + str(count3))\n"
      ],
      "execution_count": 212,
      "outputs": [
        {
          "output_type": "stream",
          "text": [
            "Count of edges not shifted for c(0.5) : 14380\n",
            "Count of edges not shifted for c(1)   : 10371\n",
            "Count of edges not shifted for c(2)   : 5686\n"
          ],
          "name": "stdout"
        }
      ]
    },
    {
      "cell_type": "code",
      "metadata": {
        "id": "E_CKWLxOjmyI",
        "outputId": "19415831-d7b3-4ee8-f43f-7eb9e8c85579",
        "colab": {
          "base_uri": "https://localhost:8080/"
        }
      },
      "source": [
        "count1/gh_ml.ecount()"
      ],
      "execution_count": 200,
      "outputs": [
        {
          "output_type": "execute_result",
          "data": {
            "text/plain": [
              "0.7305425726478358"
            ]
          },
          "metadata": {
            "tags": []
          },
          "execution_count": 200
        }
      ]
    },
    {
      "cell_type": "code",
      "metadata": {
        "id": "cvYU9EzFlPZS",
        "outputId": "7b5fa182-9b4f-4c9b-f01a-4428e23bbd03",
        "colab": {
          "base_uri": "https://localhost:8080/"
        }
      },
      "source": [
        "count2/gh_ml.ecount()"
      ],
      "execution_count": 201,
      "outputs": [
        {
          "output_type": "execute_result",
          "data": {
            "text/plain": [
              "0.5268746189798822"
            ]
          },
          "metadata": {
            "tags": []
          },
          "execution_count": 201
        }
      ]
    },
    {
      "cell_type": "code",
      "metadata": {
        "id": "f6yqOTD4lQWa",
        "outputId": "b06947cb-c727-4e44-c857-8af0e81106ee",
        "colab": {
          "base_uri": "https://localhost:8080/"
        }
      },
      "source": [
        "count3/gh_ml.ecount()"
      ],
      "execution_count": 202,
      "outputs": [
        {
          "output_type": "execute_result",
          "data": {
            "text/plain": [
              "0.28886405202194676"
            ]
          },
          "metadata": {
            "tags": []
          },
          "execution_count": 202
        }
      ]
    },
    {
      "cell_type": "markdown",
      "metadata": {
        "id": "YT_hA1hGsBO6"
      },
      "source": [
        "# Problem 4"
      ]
    },
    {
      "cell_type": "code",
      "metadata": {
        "id": "gqcJEWSgIFuK"
      },
      "source": [
        "## Xulvi-Brunet and Sokolov algorithm\n",
        "def XBS(n, d, q, assortative):\n",
        "    p = d/n\n",
        "    g = ig.Graph.Erdos_Renyi(n,p)\n",
        "    g.es['touched'] = False\n",
        "    ec = g.ecount()\n",
        "    while True:\n",
        "        re = np.random.choice(ec, 2, replace=False)\n",
        "        nodes = list(g.es[re[0]].tuple+g.es[re[1]].tuple)\n",
        "        if len(set(nodes))==4:\n",
        "            ## with proba q, wire w.r.t. assortativity, else randomly\n",
        "            if np.random.random()<q:\n",
        "                idx = np.argsort(g.degree(nodes))\n",
        "                if assortative:\n",
        "                    e1 = (nodes[idx[0]],nodes[idx[1]])\n",
        "                    e2 = (nodes[idx[2]],nodes[idx[3]])\n",
        "                else:\n",
        "                    e1 = (nodes[idx[0]],nodes[idx[3]])\n",
        "                    e2 = (nodes[idx[1]],nodes[idx[2]])\n",
        "            else:\n",
        "                np.random.shuffle(nodes)\n",
        "                e1 = (nodes[0],nodes[1])\n",
        "                e2 = (nodes[2],nodes[3])\n",
        "            if g.get_eid(e1[0], e1[1], directed=False, error=False)+\\\n",
        "               g.get_eid(e2[0], e2[1], directed=False, error=False) == -2:\n",
        "                    g.delete_edges(re)\n",
        "                    g.add_edge(e1[0],e1[1],touched=True)\n",
        "                    g.add_edge(e2[0],e2[1],touched=True)\n",
        "            else:\n",
        "                g.es[re[0]]['touched']=True\n",
        "                g.es[re[1]]['touched']=True\n",
        "        if sum(g.es['touched']) == g.ecount():\n",
        "            break\n",
        "    return g"
      ],
      "execution_count": 203,
      "outputs": []
    },
    {
      "cell_type": "code",
      "metadata": {
        "id": "mSWrcp7Tk6L-",
        "outputId": "780b808b-73f0-46cf-bfc1-2d23ea073c8f",
        "colab": {
          "base_uri": "https://localhost:8080/",
          "height": 279
        }
      },
      "source": [
        "\n",
        "N = 2**8 ## 2**16 and 64 in book\n",
        "Rep = 10\n",
        "Q = [2/3,1/3,0,1/3,2/3]\n",
        "A = [True,True,True,False,False]\n",
        "x = np.arange(0.25,3.01,.25)\n",
        "Y = []\n",
        "\n",
        "for i in range(len(Q)):\n",
        "    y = []\n",
        "    for d in x:\n",
        "        sz = 0\n",
        "        for rep in range(Rep):\n",
        "            g = XBS(n = N, d = d, q = Q[i] , assortative = A[i])\n",
        "            sz +=  g.average_path_length()\n",
        "        y.append(sz / Rep)\n",
        "    Y.append(y)\n",
        "    \n",
        "clr = ['black','gray','black','gray','black']\n",
        "typ = ['-','-',':','--','--']\n",
        "lbl = ['assortative q=2/3','assortative q=1/3','q=0','disassortative q=1/3','disassortative q=2/3']\n",
        "for i in range(len(Y)):\n",
        "    plt.plot(x,Y[i],color=clr[i],linestyle=typ[i],label=lbl[i])\n",
        "plt.xlabel('average degree')\n",
        "plt.ylabel('average distances')\n",
        "plt.legend();\n"
      ],
      "execution_count": 207,
      "outputs": [
        {
          "output_type": "display_data",
          "data": {
            "image/png": "[encoded data removed]",
            "text/plain": [
              "<Figure size 432x288 with 1 Axes>"
            ]
          },
          "metadata": {
            "tags": [],
            "needs_background": "light"
          }
        }
      ]
    },
    {
      "cell_type": "code",
      "metadata": {
        "id": "bjpfIPJinJi_"
      },
      "source": [
        ""
      ],
      "execution_count": null,
      "outputs": []
    }
  ]
}