{
  "nbformat": 4,
  "nbformat_minor": 0,
  "metadata": {
    "colab": {
      "name": "Hardik_Sharma _Assignment_0.ipynb",
      "provenance": [],
      "collapsed_sections": [],
      "include_colab_link": true
    },
    "kernelspec": {
      "name": "python3",
      "display_name": "Python 3"
    }
  },
  "cells": [
    {
      "cell_type": "markdown",
      "metadata": {
        "id": "view-in-github",
        "colab_type": "text"
      },
      "source": [
        "<a href=\"https://colab.research.google.com/github/Hardik0175/Graph_Mining/blob/main/Hardik_Sharma__Assignment_0.ipynb\" target=\"_parent\"><img src=\"https://colab.research.google.com/assets/colab-badge.svg\" alt=\"Open In Colab\"/></a>"
      ]
    },
    {
      "cell_type": "code",
      "metadata": {
        "id": "PNdZ4tGN6GvP"
      },
      "source": [
        "import cairo\n",
        "import igraph as ig\n",
        "import numpy as np\n",
        "import pandas as pd\n",
        "import matplotlib.pyplot as plt\n",
        "from sklearn.linear_model import LinearRegression\n",
        "from collections import Counter\n",
        "from statsmodels.distributions.empirical_distribution import ECDF as ecdf"
      ],
      "execution_count": 36,
      "outputs": []
    },
    {
      "cell_type": "code",
      "metadata": {
        "id": "Qa_hG432-k4r"
      },
      "source": [
        ""
      ],
      "execution_count": null,
      "outputs": []
    },
    {
      "cell_type": "code",
      "metadata": {
        "id": "MtxQQG8p65Eg",
        "outputId": "b24ada15-980a-43d7-cdf9-af076d83cdc2",
        "colab": {
          "base_uri": "https://localhost:8080/",
          "height": 34
        }
      },
      "source": [
        "## for loading dataset from google drive\n",
        "\n",
        "from google.colab import drive\n",
        "drive.mount('/content/gdrive')"
      ],
      "execution_count": 50,
      "outputs": [
        {
          "output_type": "stream",
          "text": [
            "Drive already mounted at /content/gdrive; to attempt to forcibly remount, call drive.mount(\"/content/gdrive\", force_remount=True).\n"
          ],
          "name": "stdout"
        }
      ]
    },
    {
      "cell_type": "code",
      "metadata": {
        "id": "qqRW9agv2orT"
      },
      "source": [
        "datadir='/content/gdrive/My Drive/Datasets/'\n",
        "graph1 = ig.Graph.Read_Edgelist(datadir+'ABCD/abcd_1000.dat',directed=False)"
      ],
      "execution_count": 5,
      "outputs": []
    },
    {
      "cell_type": "code",
      "metadata": {
        "id": "PqehKu0AYrzW"
      },
      "source": [
        "df = pd.read_csv(datadir +'GridNorthAmerica/gridkit_north_america-highvoltage-links.csv' )\n",
        "df2 = df[['v_id_1','v_id_2']]\n",
        "df2.to_csv(datadir +'GridNorthAmerica/gridkit_north_america-highvoltage_links2.csv', header =False,index=False)"
      ],
      "execution_count": 21,
      "outputs": []
    },
    {
      "cell_type": "code",
      "metadata": {
        "id": "8t7UcGlUwQ72"
      },
      "source": [
        "D = pd.read_csv(datadir+'GridNorthAmerica/gridkit_north_america-highvoltage_links2.csv')\n",
        "tuples = [tuple(x) for x in D.values]\n",
        "us_graph = ig.Graph.TupleList(tuples, directed = False)\n",
        "us_graph.simplify()\n",
        "\n",
        "X = pd.read_csv(datadir+'GridNorthAmerica/gridkit_north_america-highvoltage-vertices.csv')\n",
        "idx = [int(i) for i in us_graph.vs['name']]\n",
        "sorterIndex = dict(zip(idx,range(len(idx))))\n",
        "X['Rank'] = X['v_id'].map(sorterIndex)\n",
        "X.sort_values(['Rank'], ascending=[True],inplace=True)\n",
        "X.dropna(inplace=True)\n",
        "gr.vs['longitude'] = list(X['lon'])\n",
        "gr.vs['latitude'] = list(X['lat'])\n",
        "gr.vs['type'] = list(X['typ'])\n",
        "gr.vs['layout'] = [(v['longitude'],v['latitude']) for v in gr.vs()]\n",
        "gr.vs['size'] = 3\n",
        "gr.es['color'] = 'grey'\n",
        "gr.vs['color'] = 'black'"
      ],
      "execution_count": 54,
      "outputs": []
    },
    {
      "cell_type": "code",
      "metadata": {
        "id": "GlSsp8PdwP7Q",
        "outputId": "0400cef6-9022-4533-be5c-dc309512b402",
        "colab": {
          "base_uri": "https://localhost:8080/",
          "height": 462
        }
      },
      "source": [
        "S = []\n",
        "deg = graph1.degree()\n",
        "S.append(['ABCD',graph1.vcount(),graph1.ecount(),np.min(deg),np.mean(deg),np.median(deg),np.quantile(deg,.99),\n",
        "      np.max(deg),graph1.diameter(),np.max(graph1.clusters().membership)+1,graph1.clusters().giant().vcount(),\n",
        "         sum([x==0 for x in graph1.degree()]),graph1.transitivity_undirected(),graph1.transitivity_avglocal_undirected()])\n",
        "deg = us_graph.degree()\n",
        "S.append(['North America',us_graph.vcount(),us_graph.ecount(),np.min(deg),np.mean(deg),np.median(deg),np.quantile(deg,.99),\n",
        "      np.max(deg),us_graph.diameter(),np.max(us_graph.clusters().membership)+1,us_graph.clusters().giant().vcount(),\n",
        "         sum([x==0 for x in us_graph.degree()]),us_graph.transitivity_undirected(),us_graph.transitivity_avglocal_undirected()])\n",
        "\n",
        "D = pd.DataFrame(S,columns=['graph','nodes','edges',r'$d_{min}$',r'$d_{mean}$',r'$d_{median}$',\n",
        "                            r'$d_{quant_{99}}$',r'$d_{max}$','diameter','components','largest',\n",
        "                            'isolates',r'$C_{glob}$',r'$C_{loc}$'])\n",
        "D = D.transpose()\n",
        "D\n"
      ],
      "execution_count": 55,
      "outputs": [
        {
          "output_type": "execute_result",
          "data": {
            "text/html": [
              "<div>\n",
              "<style scoped>\n",
              "    .dataframe tbody tr th:only-of-type {\n",
              "        vertical-align: middle;\n",
              "    }\n",
              "\n",
              "    .dataframe tbody tr th {\n",
              "        vertical-align: top;\n",
              "    }\n",
              "\n",
              "    .dataframe thead th {\n",
              "        text-align: right;\n",
              "    }\n",
              "</style>\n",
              "<table border=\"1\" class=\"dataframe\">\n",
              "  <thead>\n",
              "    <tr style=\"text-align: right;\">\n",
              "      <th></th>\n",
              "      <th>0</th>\n",
              "      <th>1</th>\n",
              "    </tr>\n",
              "  </thead>\n",
              "  <tbody>\n",
              "    <tr>\n",
              "      <th>graph</th>\n",
              "      <td>ABCD</td>\n",
              "      <td>North America</td>\n",
              "    </tr>\n",
              "    <tr>\n",
              "      <th>nodes</th>\n",
              "      <td>1001</td>\n",
              "      <td>16167</td>\n",
              "    </tr>\n",
              "    <tr>\n",
              "      <th>edges</th>\n",
              "      <td>8327</td>\n",
              "      <td>20241</td>\n",
              "    </tr>\n",
              "    <tr>\n",
              "      <th>$d_{min}$</th>\n",
              "      <td>0</td>\n",
              "      <td>1</td>\n",
              "    </tr>\n",
              "    <tr>\n",
              "      <th>$d_{mean}$</th>\n",
              "      <td>16.6374</td>\n",
              "      <td>2.50399</td>\n",
              "    </tr>\n",
              "    <tr>\n",
              "      <th>$d_{median}$</th>\n",
              "      <td>13</td>\n",
              "      <td>2</td>\n",
              "    </tr>\n",
              "    <tr>\n",
              "      <th>$d_{quant_{99}}$</th>\n",
              "      <td>62</td>\n",
              "      <td>7</td>\n",
              "    </tr>\n",
              "    <tr>\n",
              "      <th>$d_{max}$</th>\n",
              "      <td>92</td>\n",
              "      <td>22</td>\n",
              "    </tr>\n",
              "    <tr>\n",
              "      <th>diameter</th>\n",
              "      <td>4</td>\n",
              "      <td>138</td>\n",
              "    </tr>\n",
              "    <tr>\n",
              "      <th>components</th>\n",
              "      <td>2</td>\n",
              "      <td>34</td>\n",
              "    </tr>\n",
              "    <tr>\n",
              "      <th>largest</th>\n",
              "      <td>1000</td>\n",
              "      <td>14990</td>\n",
              "    </tr>\n",
              "    <tr>\n",
              "      <th>isolates</th>\n",
              "      <td>1</td>\n",
              "      <td>0</td>\n",
              "    </tr>\n",
              "    <tr>\n",
              "      <th>$C_{glob}$</th>\n",
              "      <td>0.044796</td>\n",
              "      <td>0.102382</td>\n",
              "    </tr>\n",
              "    <tr>\n",
              "      <th>$C_{loc}$</th>\n",
              "      <td>0.0438225</td>\n",
              "      <td>0.104173</td>\n",
              "    </tr>\n",
              "  </tbody>\n",
              "</table>\n",
              "</div>"
            ],
            "text/plain": [
              "                          0              1\n",
              "graph                  ABCD  North America\n",
              "nodes                  1001          16167\n",
              "edges                  8327          20241\n",
              "$d_{min}$                 0              1\n",
              "$d_{mean}$          16.6374        2.50399\n",
              "$d_{median}$             13              2\n",
              "$d_{quant_{99}}$         62              7\n",
              "$d_{max}$                92             22\n",
              "diameter                  4            138\n",
              "components                2             34\n",
              "largest                1000          14990\n",
              "isolates                  1              0\n",
              "$C_{glob}$         0.044796       0.102382\n",
              "$C_{loc}$         0.0438225       0.104173"
            ]
          },
          "metadata": {
            "tags": []
          },
          "execution_count": 55
        }
      ]
    },
    {
      "cell_type": "code",
      "metadata": {
        "id": "mCDfa1dO594h",
        "outputId": "d00f32f9-2465-4feb-b17b-5e47380528db",
        "colab": {
          "base_uri": "https://localhost:8080/",
          "height": 34
        }
      },
      "source": [
        "## read the GitHub edge list into a graph\n",
        "D = pd.read_csv(datadir+'GitHubDevelopers/musae_git_edges.csv')\n",
        "tuples = [tuple(x) for x in D.values]\n",
        "gh = ig.Graph.TupleList(tuples, directed = False)\n",
        "\n",
        "## add some node features, here there are\n",
        "## 2 class of nodes, 0: web developer (red), 1: ml developer (blue)\n",
        "X = pd.read_csv(datadir+'GitHubDevelopers/musae_git_target.csv')\n",
        "idx = [int(i) for i in gh.vs['name']]\n",
        "sorterIndex = dict(zip(idx,range(len(idx))))\n",
        "X['Rank'] = X['id'].map(sorterIndex)\n",
        "X.sort_values(['Rank'], ascending=[True],inplace=True)\n",
        "X.dropna(inplace=True)\n",
        "gh.vs['target'] = list(X['ml_target'])\n",
        "cls = ['grey','black']\n",
        "lbl = ['web','ml']\n",
        "gh.vs['color'] = [cls[i] for i in list(X['ml_target'])]\n",
        "gh.vs['lbl'] = [lbl[i] for i in list(X['ml_target'])]\n",
        "gh.es['color'] = 'grey'"
      ],
      "execution_count": 61,
      "outputs": [
        {
          "output_type": "execute_result",
          "data": {
            "text/plain": [
              "20241"
            ]
          },
          "metadata": {
            "tags": []
          },
          "execution_count": 61
        }
      ]
    },
    {
      "cell_type": "code",
      "metadata": {
        "id": "momKawcOIN8D",
        "outputId": "9d193998-3042-4fa0-8572-10c9c92a502a",
        "colab": {
          "base_uri": "https://localhost:8080/",
          "height": 34
        }
      },
      "source": [
        "data.shape"
      ],
      "execution_count": null,
      "outputs": [
        {
          "output_type": "execute_result",
          "data": {
            "text/plain": [
              "(8327, 2)"
            ]
          },
          "metadata": {
            "tags": []
          },
          "execution_count": 58
        }
      ]
    },
    {
      "cell_type": "code",
      "metadata": {
        "id": "YurFIW_ZACRl"
      },
      "source": [
        ""
      ],
      "execution_count": null,
      "outputs": []
    }
  ]
}