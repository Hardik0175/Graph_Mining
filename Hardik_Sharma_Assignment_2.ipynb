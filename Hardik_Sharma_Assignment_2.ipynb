{
  "nbformat": 4,
  "nbformat_minor": 0,
  "metadata": {
    "colab": {
      "name": "Hardik_Sharma_Assignment_2.ipynb",
      "provenance": [],
      "collapsed_sections": [],
      "authorship_tag": "ABX9TyOTEMcuEtaSU+RQTaH3rrdj",
      "include_colab_link": true
    },
    "kernelspec": {
      "name": "python3",
      "display_name": "Python 3"
    }
  },
  "cells": [
    {
      "cell_type": "markdown",
      "metadata": {
        "id": "view-in-github",
        "colab_type": "text"
      },
      "source": [
        "<a href=\"https://colab.research.google.com/github/Hardik0175/Graph_Mining/blob/main/Hardik_Sharma_Assignment_2.ipynb\" target=\"_parent\"><img src=\"https://colab.research.google.com/assets/colab-badge.svg\" alt=\"Open In Colab\"/></a>"
      ]
    },
    {
      "cell_type": "code",
      "metadata": {
        "id": "qw17-cWPFcnX",
        "outputId": "06af9968-64c6-45f1-bc2c-8c11f79356e4",
        "colab": {
          "base_uri": "https://localhost:8080/"
        }
      },
      "source": [
        "!apt-get install libcairo2-dev libjpeg-dev libgif-dev\n",
        "!pip install pycairo\n",
        "!pip install python-igraph\n",
        "!pip install plfit\n",
        "!pip install networkx"
      ],
      "execution_count": 1,
      "outputs": [
        {
          "output_type": "stream",
          "text": [
            "Reading package lists... Done\n",
            "Building dependency tree       \n",
            "Reading state information... Done\n",
            "libjpeg-dev is already the newest version (8c-2ubuntu8).\n",
            "libjpeg-dev set to manually installed.\n",
            "The following additional packages will be installed:\n",
            "  libcairo-script-interpreter2 libpixman-1-dev libxcb-shm0-dev\n",
            "Suggested packages:\n",
            "  libcairo2-doc\n",
            "The following NEW packages will be installed:\n",
            "  libcairo-script-interpreter2 libcairo2-dev libgif-dev libpixman-1-dev\n",
            "  libxcb-shm0-dev\n",
            "0 upgraded, 5 newly installed, 0 to remove and 11 not upgraded.\n",
            "Need to get 951 kB of archives.\n",
            "After this operation, 4,084 kB of additional disk space will be used.\n",
            "Get:1 http://archive.ubuntu.com/ubuntu bionic-updates/main amd64 libcairo-script-interpreter2 amd64 1.15.10-2ubuntu0.1 [53.5 kB]\n",
            "Get:2 http://archive.ubuntu.com/ubuntu bionic/main amd64 libpixman-1-dev amd64 0.34.0-2 [244 kB]\n",
            "Get:3 http://archive.ubuntu.com/ubuntu bionic-updates/main amd64 libxcb-shm0-dev amd64 1.13-2~ubuntu18.04 [6,684 B]\n",
            "Get:4 http://archive.ubuntu.com/ubuntu bionic-updates/main amd64 libcairo2-dev amd64 1.15.10-2ubuntu0.1 [626 kB]\n",
            "Get:5 http://archive.ubuntu.com/ubuntu bionic-updates/main amd64 libgif-dev amd64 5.1.4-2ubuntu0.1 [20.6 kB]\n",
            "Fetched 951 kB in 2s (400 kB/s)\n",
            "Selecting previously unselected package libcairo-script-interpreter2:amd64.\n",
            "(Reading database ... 144628 files and directories currently installed.)\n",
            "Preparing to unpack .../libcairo-script-interpreter2_1.15.10-2ubuntu0.1_amd64.deb ...\n",
            "Unpacking libcairo-script-interpreter2:amd64 (1.15.10-2ubuntu0.1) ...\n",
            "Selecting previously unselected package libpixman-1-dev:amd64.\n",
            "Preparing to unpack .../libpixman-1-dev_0.34.0-2_amd64.deb ...\n",
            "Unpacking libpixman-1-dev:amd64 (0.34.0-2) ...\n",
            "Selecting previously unselected package libxcb-shm0-dev:amd64.\n",
            "Preparing to unpack .../libxcb-shm0-dev_1.13-2~ubuntu18.04_amd64.deb ...\n",
            "Unpacking libxcb-shm0-dev:amd64 (1.13-2~ubuntu18.04) ...\n",
            "Selecting previously unselected package libcairo2-dev:amd64.\n",
            "Preparing to unpack .../libcairo2-dev_1.15.10-2ubuntu0.1_amd64.deb ...\n",
            "Unpacking libcairo2-dev:amd64 (1.15.10-2ubuntu0.1) ...\n",
            "Selecting previously unselected package libgif-dev.\n",
            "Preparing to unpack .../libgif-dev_5.1.4-2ubuntu0.1_amd64.deb ...\n",
            "Unpacking libgif-dev (5.1.4-2ubuntu0.1) ...\n",
            "Setting up libcairo-script-interpreter2:amd64 (1.15.10-2ubuntu0.1) ...\n",
            "Setting up libgif-dev (5.1.4-2ubuntu0.1) ...\n",
            "Setting up libxcb-shm0-dev:amd64 (1.13-2~ubuntu18.04) ...\n",
            "Setting up libpixman-1-dev:amd64 (0.34.0-2) ...\n",
            "Setting up libcairo2-dev:amd64 (1.15.10-2ubuntu0.1) ...\n",
            "Processing triggers for libc-bin (2.27-3ubuntu1.2) ...\n",
            "/sbin/ldconfig.real: /usr/local/lib/python3.6/dist-packages/ideep4py/lib/libmkldnn.so.0 is not a symbolic link\n",
            "\n",
            "Collecting pycairo\n",
            "\u001b[?25l  Downloading https://files.pythonhosted.org/packages/9d/6e/499d6a6db416eb3cdf0e57762a269908e4ab6638a75a90972afc34885b91/pycairo-1.20.0.tar.gz (344kB)\n",
            "\u001b[K     |████████████████████████████████| 348kB 2.8MB/s \n",
            "\u001b[?25h  Installing build dependencies ... \u001b[?25l\u001b[?25hdone\n",
            "  Getting requirements to build wheel ... \u001b[?25l\u001b[?25hdone\n",
            "    Preparing wheel metadata ... \u001b[?25l\u001b[?25hdone\n",
            "Building wheels for collected packages: pycairo\n",
            "  Building wheel for pycairo (PEP 517) ... \u001b[?25l\u001b[?25hdone\n",
            "  Created wheel for pycairo: filename=pycairo-1.20.0-cp36-cp36m-linux_x86_64.whl size=241726 sha256=10b2fe62f9a785fa690c41b35c6288770659f067fa0b74ea55b16154eeefa4f3\n",
            "  Stored in directory: /root/.cache/pip/wheels/47/b2/fb/4120c78b516405471f705124b229c28aa5afb7158a42567e11\n",
            "Successfully built pycairo\n",
            "Installing collected packages: pycairo\n",
            "Successfully installed pycairo-1.20.0\n",
            "Collecting python-igraph\n",
            "\u001b[?25l  Downloading https://files.pythonhosted.org/packages/20/6e/3ac2fc339051f652d4a01570d133e4d15321aaec929ffb5f49a67852f8d9/python_igraph-0.8.3-cp36-cp36m-manylinux2010_x86_64.whl (3.2MB)\n",
            "\u001b[K     |████████████████████████████████| 3.2MB 2.7MB/s \n",
            "\u001b[?25hCollecting texttable>=1.6.2\n",
            "  Downloading https://files.pythonhosted.org/packages/06/f5/46201c428aebe0eecfa83df66bf3e6caa29659dbac5a56ddfd83cae0d4a4/texttable-1.6.3-py2.py3-none-any.whl\n",
            "Installing collected packages: texttable, python-igraph\n",
            "Successfully installed python-igraph-0.8.3 texttable-1.6.3\n",
            "Collecting plfit\n",
            "\u001b[?25l  Downloading https://files.pythonhosted.org/packages/5e/7f/c2c37a7c9ffb4878d3a8f8e450aad474c02c374f422b506c5a5198ea20f9/plfit-1.0.3.tar.gz (193kB)\n",
            "\u001b[K     |████████████████████████████████| 194kB 2.8MB/s \n",
            "\u001b[?25hRequirement already satisfied: numpy in /usr/local/lib/python3.6/dist-packages (from plfit) (1.18.5)\n",
            "Requirement already satisfied: cython in /usr/local/lib/python3.6/dist-packages (from plfit) (0.29.21)\n",
            "Building wheels for collected packages: plfit\n",
            "  Building wheel for plfit (setup.py) ... \u001b[?25l\u001b[?25hdone\n",
            "  Created wheel for plfit: filename=plfit-1.0.3-cp36-cp36m-linux_x86_64.whl size=123702 sha256=abeb4a7ee3037a927a37ec84625ae5561719b6a213f8769f33ac6f63bc6574c7\n",
            "  Stored in directory: /root/.cache/pip/wheels/6e/2b/1a/fa891c94ce03c42ea225777c8d3db676c71375fe979caba29a\n",
            "Successfully built plfit\n",
            "Installing collected packages: plfit\n",
            "Successfully installed plfit-1.0.3\n",
            "Requirement already satisfied: networkx in /usr/local/lib/python3.6/dist-packages (2.5)\n",
            "Requirement already satisfied: decorator>=4.3.0 in /usr/local/lib/python3.6/dist-packages (from networkx) (4.4.2)\n"
          ],
          "name": "stdout"
        }
      ]
    },
    {
      "cell_type": "code",
      "metadata": {
        "id": "_Ubl8wRgFlHx",
        "outputId": "664263b0-6ebd-4ddc-f40e-0e0c8b7eaae7",
        "colab": {
          "base_uri": "https://localhost:8080/"
        }
      },
      "source": [
        "datadir='/content/gdrive/My Drive/Datasets/'\n",
        "## for loading dataset from google drive\n",
        "\n",
        "from google.colab import drive\n",
        "drive.mount('/content/gdrive')"
      ],
      "execution_count": 2,
      "outputs": [
        {
          "output_type": "stream",
          "text": [
            "Mounted at /content/gdrive\n"
          ],
          "name": "stdout"
        }
      ]
    },
    {
      "cell_type": "code",
      "metadata": {
        "id": "gXFJc7MhFmDK"
      },
      "source": [
        "import igraph as ig\n",
        "import numpy as np\n",
        "import pandas as pd\n",
        "import matplotlib.pyplot as plt\n",
        "from matplotlib import cm\n",
        "\n",
        "from collections import Counter"
      ],
      "execution_count": 3,
      "outputs": []
    },
    {
      "cell_type": "code",
      "metadata": {
        "id": "a7I11ZbZFn2S"
      },
      "source": [
        "## define the colors and node sizes here\n",
        "cls_edges = 'gainsboro'\n",
        "cls = ['silver','dimgray','black']\n",
        "sz = [6,9,12]"
      ],
      "execution_count": 4,
      "outputs": []
    },
    {
      "cell_type": "code",
      "metadata": {
        "id": "ygacaICvFp5s"
      },
      "source": [
        "## read edges and build weighted directed graph\n",
        "D = pd.read_csv(datadir+'Airports/connections.csv')\n",
        "g = ig.Graph.TupleList([tuple(x) for x in D.values], directed=True, edge_attrs=['weight'])\n",
        "df = D.head()"
      ],
      "execution_count": 5,
      "outputs": []
    },
    {
      "cell_type": "code",
      "metadata": {
        "id": "aRNakzITFr9E",
        "outputId": "618ad88d-717e-46b0-918b-cd03c602e07a",
        "colab": {
          "base_uri": "https://localhost:8080/"
        }
      },
      "source": [
        "## read vertex attributes and add to graph\n",
        "A = pd.read_csv(datadir+'Airports/airports_loc.csv')\n",
        "lookup = {k:v for v,k in enumerate(A['airport'])}\n",
        "l = [lookup[x] for x in g.vs()['name']]\n",
        "g.vs()['layout'] = [(A['lon'][i],A['lat'][i]) for i in l]\n",
        "g.vs()['state'] = [A['state'][i] for i in l]\n",
        "g.vs()['city'] = [A['city'][i] for i in l]\n",
        "## add a few more attributes for visualization\n",
        "g.vs()['size'] = sz[1]\n",
        "g.vs()['color'] = cls[1]\n",
        "g.es()['color'] = cls_edges\n",
        "g.es()['arrow_size'] = 0.33\n",
        "df = A.head()\n",
        "print(g.vcount(),'nodes and',g.ecount(),'directed edges')"
      ],
      "execution_count": 6,
      "outputs": [
        {
          "output_type": "stream",
          "text": [
            "464 nodes and 12000 directed edges\n"
          ],
          "name": "stdout"
        }
      ]
    },
    {
      "cell_type": "markdown",
      "metadata": {
        "id": "ex1PtYc_OULN"
      },
      "source": [
        "# Problem 1\n",
        "Top 5 ranked airport in NY state"
      ]
    },
    {
      "cell_type": "code",
      "metadata": {
        "id": "XZxktoXtFtXx",
        "outputId": "8dd8e090-a222-4bc6-85b1-b99b972870e1",
        "colab": {
          "base_uri": "https://localhost:8080/"
        }
      },
      "source": [
        "## Build smaller subgraph for California (you can try other states)\n",
        "hva = [v for v in g.vs() if v['state'] == 'NY']\n",
        "G = g.subgraph(hva)\n",
        "\n",
        "## drop isolated vertices (i.e. without in-state connections)\n",
        "G = G.subgraph([v for v in G.vs() if v.degree()>0])\n",
        "\n",
        "## remove loops\n",
        "G = G.simplify(multiple=False)\n",
        "print(G.vcount(),'nodes and',G.ecount(),'directed edges')\n"
      ],
      "execution_count": 7,
      "outputs": [
        {
          "output_type": "stream",
          "text": [
            "13 nodes and 50 directed edges\n"
          ],
          "name": "stdout"
        }
      ]
    },
    {
      "cell_type": "code",
      "metadata": {
        "id": "QI3C2Jc_FzDh",
        "outputId": "7152f32d-99ad-4267-b9d0-cbc64a279b34",
        "colab": {
          "base_uri": "https://localhost:8080/",
          "height": 421
        }
      },
      "source": [
        "## plot using lat/lon as layout\n",
        "ly = ig.Layout(G.vs['layout'])\n",
        "ly.mirror(1)\n",
        "ig.plot(G, bbox=(0,0,300,300), layout=ly)"
      ],
      "execution_count": 8,
      "outputs": [
        {
          "output_type": "execute_result",
          "data": {
            "text/plain": [
              "<igraph.drawing.Plot at 0x7f875619e0f0>"
            ],
            "image/svg+xml": "<?xml version=\"1.0\" encoding=\"UTF-8\"?>\n<svg xmlns=\"http://www.w3.org/2000/svg\" xmlns:xlink=\"http://www.w3.org/1999/xlink\" width=\"300pt\" height=\"300pt\" viewBox=\"0 0 300 300\" version=\"1.1\">\n<g id=\"surface2\">\n<rect x=\"0\" y=\"0\" width=\"300\" height=\"300\" style=\"fill:rgb(100%,100%,100%);fill-opacity:1;stroke:none;\"/>\n<path style=\"fill:none;stroke-width:1;stroke-linecap:butt;stroke-linejoin:miter;stroke:rgb(86.27451%,86.27451%,86.27451%);stroke-opacity:1;stroke-miterlimit:10;\" d=\"M 280 280 C 281.660156 279.429688 283.257812 277.167969 282.367188 276.511719 \"/>\n<path style=\" stroke:none;fill-rule:nonzero;fill:rgb(86.27451%,86.27451%,86.27451%);fill-opacity:1;\" d=\"M 278.574219 273.726562 L 283.273438 275.28125 L 281.460938 277.746094 L 278.574219 273.726562 \"/>\n<path style=\"fill:none;stroke-width:1;stroke-linecap:butt;stroke-linejoin:miter;stroke:rgb(86.27451%,86.27451%,86.27451%);stroke-opacity:1;stroke-miterlimit:10;\" d=\"M 280 280 C 233.671875 167.597656 149.878906 116.332031 29.191406 130.902344 \"/>\n<path style=\" stroke:none;fill-rule:nonzero;fill:rgb(86.27451%,86.27451%,86.27451%);fill-opacity:1;\" d=\"M 24.515625 131.464844 L 29.007812 129.382812 L 29.375 132.421875 L 24.515625 131.464844 \"/>\n<path style=\"fill:none;stroke-width:1;stroke-linecap:butt;stroke-linejoin:miter;stroke:rgb(86.27451%,86.27451%,86.27451%);stroke-opacity:1;stroke-miterlimit:10;\" d=\"M 280 280 C 313.492188 238.339844 316.1875 194.664062 284.3125 151.785156 \"/>\n<path style=\" stroke:none;fill-rule:nonzero;fill:rgb(86.27451%,86.27451%,86.27451%);fill-opacity:1;\" d=\"M 281.503906 148.007812 L 285.539062 150.875 L 283.085938 152.699219 L 281.503906 148.007812 \"/>\n<path style=\"fill:none;stroke-width:1;stroke-linecap:butt;stroke-linejoin:miter;stroke:rgb(86.27451%,86.27451%,86.27451%);stroke-opacity:1;stroke-miterlimit:10;\" d=\"M 280 280 C 254.765625 178.144531 189.765625 123.492188 84.882812 120.777344 \"/>\n<path style=\" stroke:none;fill-rule:nonzero;fill:rgb(86.27451%,86.27451%,86.27451%);fill-opacity:1;\" d=\"M 80.175781 120.65625 L 84.921875 119.246094 L 84.839844 122.304688 L 80.175781 120.65625 \"/>\n<path style=\"fill:none;stroke-width:1;stroke-linecap:butt;stroke-linejoin:miter;stroke:rgb(86.27451%,86.27451%,86.27451%);stroke-opacity:1;stroke-miterlimit:10;\" d=\"M 280 280 C 281.339844 199.546875 244.019531 145.894531 166.71875 123.597656 \"/>\n<path style=\" stroke:none;fill-rule:nonzero;fill:rgb(86.27451%,86.27451%,86.27451%);fill-opacity:1;\" d=\"M 162.195312 122.289062 L 167.144531 122.125 L 166.296875 125.066406 L 162.195312 122.289062 \"/>\n<path style=\"fill:none;stroke-width:1;stroke-linecap:butt;stroke-linejoin:miter;stroke:rgb(86.27451%,86.27451%,86.27451%);stroke-opacity:1;stroke-miterlimit:10;\" d=\"M 280 280 C 281.046875 277.859375 280.839844 274.59375 278.925781 274.382812 \"/>\n<path style=\" stroke:none;fill-rule:nonzero;fill:rgb(86.27451%,86.27451%,86.27451%);fill-opacity:1;\" d=\"M 274.246094 273.867188 L 279.09375 272.863281 L 278.757812 275.902344 L 274.246094 273.867188 \"/>\n<path style=\"fill:none;stroke-width:1;stroke-linecap:butt;stroke-linejoin:miter;stroke:rgb(86.27451%,86.27451%,86.27451%);stroke-opacity:1;stroke-miterlimit:10;\" d=\"M 280 280 C 280.335938 277.429688 279.089844 274.230469 276.945312 274.578125 \"/>\n<path style=\" stroke:none;fill-rule:nonzero;fill:rgb(86.27451%,86.27451%,86.27451%);fill-opacity:1;\" d=\"M 272.296875 275.335938 L 276.699219 273.070312 L 277.191406 276.089844 L 272.296875 275.335938 \"/>\n<path style=\"fill:none;stroke-width:1;stroke-linecap:butt;stroke-linejoin:miter;stroke:rgb(86.27451%,86.27451%,86.27451%);stroke-opacity:1;stroke-miterlimit:10;\" d=\"M 275.082031 271.164062 C 273.421875 271.734375 271.824219 273.996094 272.714844 274.648438 \"/>\n<path style=\" stroke:none;fill-rule:nonzero;fill:rgb(86.27451%,86.27451%,86.27451%);fill-opacity:1;\" d=\"M 276.507812 277.4375 L 271.808594 275.882812 L 273.621094 273.417969 L 276.507812 277.4375 \"/>\n<path style=\"fill:none;stroke-width:1;stroke-linecap:butt;stroke-linejoin:miter;stroke:rgb(86.27451%,86.27451%,86.27451%);stroke-opacity:1;stroke-miterlimit:10;\" d=\"M 275.082031 271.164062 C 228.21875 162.875 146.027344 114.503906 29.167969 130.738281 \"/>\n<path style=\" stroke:none;fill-rule:nonzero;fill:rgb(86.27451%,86.27451%,86.27451%);fill-opacity:1;\" d=\"M 24.507812 131.386719 L 28.957031 129.222656 L 29.378906 132.253906 L 24.507812 131.386719 \"/>\n<path style=\"fill:none;stroke-width:1;stroke-linecap:butt;stroke-linejoin:miter;stroke:rgb(86.27451%,86.27451%,86.27451%);stroke-opacity:1;stroke-miterlimit:10;\" d=\"M 275.082031 271.164062 C 307.851562 233.671875 312.125 193.0625 284.015625 151.992188 \"/>\n<path style=\" stroke:none;fill-rule:nonzero;fill:rgb(86.27451%,86.27451%,86.27451%);fill-opacity:1;\" d=\"M 281.359375 148.109375 L 285.277344 151.128906 L 282.753906 152.855469 L 281.359375 148.109375 \"/>\n<path style=\"fill:none;stroke-width:1;stroke-linecap:butt;stroke-linejoin:miter;stroke:rgb(86.27451%,86.27451%,86.27451%);stroke-opacity:1;stroke-miterlimit:10;\" d=\"M 275.082031 271.164062 C 249.316406 173.4375 185.929688 121.679688 84.882812 120.632812 \"/>\n<path style=\" stroke:none;fill-rule:nonzero;fill:rgb(86.27451%,86.27451%,86.27451%);fill-opacity:1;\" d=\"M 80.175781 120.585938 L 84.898438 119.101562 L 84.867188 122.164062 L 80.175781 120.585938 \"/>\n<path style=\"fill:none;stroke-width:1;stroke-linecap:butt;stroke-linejoin:miter;stroke:rgb(86.27451%,86.27451%,86.27451%);stroke-opacity:1;stroke-miterlimit:10;\" d=\"M 275.082031 271.164062 C 275.875 194.867188 240.183594 144.136719 166.738281 123.53125 \"/>\n<path style=\" stroke:none;fill-rule:nonzero;fill:rgb(86.27451%,86.27451%,86.27451%);fill-opacity:1;\" d=\"M 162.203125 122.257812 L 167.148438 122.058594 L 166.324219 125.003906 L 162.203125 122.257812 \"/>\n<path style=\"fill:none;stroke-width:1;stroke-linecap:butt;stroke-linejoin:miter;stroke:rgb(86.27451%,86.27451%,86.27451%);stroke-opacity:1;stroke-miterlimit:10;\" d=\"M 275.082031 271.164062 C 260.363281 202.941406 218.273438 164.773438 148.585938 161.375 \"/>\n<path style=\" stroke:none;fill-rule:nonzero;fill:rgb(86.27451%,86.27451%,86.27451%);fill-opacity:1;\" d=\"M 143.882812 161.144531 L 148.660156 159.847656 L 148.511719 162.902344 L 143.882812 161.144531 \"/>\n<path style=\"fill:none;stroke-width:1;stroke-linecap:butt;stroke-linejoin:miter;stroke:rgb(86.27451%,86.27451%,86.27451%);stroke-opacity:1;stroke-miterlimit:10;\" d=\"M 20 132.011719 C 66.328125 244.414062 150.121094 295.679688 270.808594 281.109375 \"/>\n<path style=\" stroke:none;fill-rule:nonzero;fill:rgb(86.27451%,86.27451%,86.27451%);fill-opacity:1;\" d=\"M 275.484375 280.546875 L 270.992188 282.628906 L 270.625 279.589844 L 275.484375 280.546875 \"/>\n<path style=\"fill:none;stroke-width:1;stroke-linecap:butt;stroke-linejoin:miter;stroke:rgb(86.27451%,86.27451%,86.27451%);stroke-opacity:1;stroke-miterlimit:10;\" d=\"M 20 132.011719 C 66.863281 240.296875 149.054688 288.671875 265.914062 272.4375 \"/>\n<path style=\" stroke:none;fill-rule:nonzero;fill:rgb(86.27451%,86.27451%,86.27451%);fill-opacity:1;\" d=\"M 270.574219 271.789062 L 266.121094 273.949219 L 265.703125 270.921875 L 270.574219 271.789062 \"/>\n<path style=\"fill:none;stroke-width:1;stroke-linecap:butt;stroke-linejoin:miter;stroke:rgb(86.27451%,86.27451%,86.27451%);stroke-opacity:1;stroke-miterlimit:10;\" d=\"M 20 132.011719 C 99.328125 200.625 183.90625 207.769531 271.109375 149.515625 \"/>\n<path style=\" stroke:none;fill-rule:nonzero;fill:rgb(86.27451%,86.27451%,86.27451%);fill-opacity:1;\" d=\"M 275.023438 146.902344 L 271.957031 150.789062 L 270.257812 148.246094 L 275.023438 146.902344 \"/>\n<path style=\"fill:none;stroke-width:1;stroke-linecap:butt;stroke-linejoin:miter;stroke:rgb(86.27451%,86.27451%,86.27451%);stroke-opacity:1;stroke-miterlimit:10;\" d=\"M 20 132.011719 C 37.644531 142.746094 55.214844 142.207031 69.339844 127.214844 \"/>\n<path style=\" stroke:none;fill-rule:nonzero;fill:rgb(86.27451%,86.27451%,86.27451%);fill-opacity:1;\" d=\"M 72.566406 123.789062 L 70.453125 128.265625 L 68.226562 126.167969 L 72.566406 123.789062 \"/>\n<path style=\"fill:none;stroke-width:1;stroke-linecap:butt;stroke-linejoin:miter;stroke:rgb(86.27451%,86.27451%,86.27451%);stroke-opacity:1;stroke-miterlimit:10;\" d=\"M 20 132.011719 C 64.851562 163.066406 109.484375 162.605469 150.832031 127.054688 \"/>\n<path style=\" stroke:none;fill-rule:nonzero;fill:rgb(86.27451%,86.27451%,86.27451%);fill-opacity:1;\" d=\"M 154.402344 123.984375 L 151.828125 128.214844 L 149.835938 125.894531 L 154.402344 123.984375 \"/>\n<path style=\"fill:none;stroke-width:1;stroke-linecap:butt;stroke-linejoin:miter;stroke:rgb(86.27451%,86.27451%,86.27451%);stroke-opacity:1;stroke-miterlimit:10;\" d=\"M 20 132.011719 L 155.71875 176.230469 \"/>\n<path style=\" stroke:none;fill-rule:nonzero;fill:rgb(86.27451%,86.27451%,86.27451%);fill-opacity:1;\" d=\"M 160.195312 177.691406 L 155.246094 177.6875 L 156.195312 174.777344 L 160.195312 177.691406 \"/>\n<path style=\"fill:none;stroke-width:1;stroke-linecap:butt;stroke-linejoin:miter;stroke:rgb(86.27451%,86.27451%,86.27451%);stroke-opacity:1;stroke-miterlimit:10;\" d=\"M 278.804688 144.375 C 245.3125 186.035156 242.613281 229.710938 274.492188 272.589844 \"/>\n<path style=\" stroke:none;fill-rule:nonzero;fill:rgb(86.27451%,86.27451%,86.27451%);fill-opacity:1;\" d=\"M 277.300781 276.367188 L 273.261719 273.5 L 275.71875 271.675781 L 277.300781 276.367188 \"/>\n<path style=\"fill:none;stroke-width:1;stroke-linecap:butt;stroke-linejoin:miter;stroke:rgb(86.27451%,86.27451%,86.27451%);stroke-opacity:1;stroke-miterlimit:10;\" d=\"M 278.804688 144.375 C 246.03125 181.863281 241.757812 222.472656 269.867188 263.542969 \"/>\n<path style=\" stroke:none;fill-rule:nonzero;fill:rgb(86.27451%,86.27451%,86.27451%);fill-opacity:1;\" d=\"M 272.527344 267.429688 L 268.605469 264.410156 L 271.128906 262.679688 L 272.527344 267.429688 \"/>\n<path style=\"fill:none;stroke-width:1;stroke-linecap:butt;stroke-linejoin:miter;stroke:rgb(86.27451%,86.27451%,86.27451%);stroke-opacity:1;stroke-miterlimit:10;\" d=\"M 278.804688 144.375 C 199.476562 75.761719 114.898438 68.617188 27.695312 126.871094 \"/>\n<path style=\" stroke:none;fill-rule:nonzero;fill:rgb(86.27451%,86.27451%,86.27451%);fill-opacity:1;\" d=\"M 23.78125 129.484375 L 26.847656 125.597656 L 28.546875 128.144531 L 23.78125 129.484375 \"/>\n<path style=\"fill:none;stroke-width:1;stroke-linecap:butt;stroke-linejoin:miter;stroke:rgb(86.27451%,86.27451%,86.27451%);stroke-opacity:1;stroke-miterlimit:10;\" d=\"M 278.804688 144.375 C 248.082031 107.132812 209.878906 96.628906 166.191406 117.113281 \"/>\n<path style=\" stroke:none;fill-rule:nonzero;fill:rgb(86.27451%,86.27451%,86.27451%);fill-opacity:1;\" d=\"M 161.929688 119.113281 L 165.542969 115.730469 L 166.839844 118.5 L 161.929688 119.113281 \"/>\n<path style=\"fill:none;stroke-width:1;stroke-linecap:butt;stroke-linejoin:miter;stroke:rgb(86.27451%,86.27451%,86.27451%);stroke-opacity:1;stroke-miterlimit:10;\" d=\"M 278.804688 144.375 L 125.582031 180.128906 \"/>\n<path style=\" stroke:none;fill-rule:nonzero;fill:rgb(86.27451%,86.27451%,86.27451%);fill-opacity:1;\" d=\"M 120.996094 181.199219 L 125.234375 178.640625 L 125.929688 181.621094 L 120.996094 181.199219 \"/>\n<path style=\"fill:none;stroke-width:1;stroke-linecap:butt;stroke-linejoin:miter;stroke:rgb(86.27451%,86.27451%,86.27451%);stroke-opacity:1;stroke-miterlimit:10;\" d=\"M 278.804688 144.375 C 263.105469 90.796875 227.292969 62.472656 171.507812 64.113281 \"/>\n<path style=\" stroke:none;fill-rule:nonzero;fill:rgb(86.27451%,86.27451%,86.27451%);fill-opacity:1;\" d=\"M 166.800781 64.25 L 171.460938 62.582031 L 171.550781 65.640625 L 166.800781 64.25 \"/>\n<path style=\"fill:none;stroke-width:1;stroke-linecap:butt;stroke-linejoin:miter;stroke:rgb(86.27451%,86.27451%,86.27451%);stroke-opacity:1;stroke-miterlimit:10;\" d=\"M 278.804688 144.375 C 282.960938 84.257812 257.269531 42.300781 200.21875 22.964844 \"/>\n<path style=\" stroke:none;fill-rule:nonzero;fill:rgb(86.27451%,86.27451%,86.27451%);fill-opacity:1;\" d=\"M 195.761719 21.453125 L 200.710938 21.515625 L 199.730469 24.414062 L 195.761719 21.453125 \"/>\n<path style=\"fill:none;stroke-width:1;stroke-linecap:butt;stroke-linejoin:miter;stroke:rgb(86.27451%,86.27451%,86.27451%);stroke-opacity:1;stroke-miterlimit:10;\" d=\"M 75.628906 120.535156 C 100.863281 222.390625 165.863281 277.042969 270.75 279.761719 \"/>\n<path style=\" stroke:none;fill-rule:nonzero;fill:rgb(86.27451%,86.27451%,86.27451%);fill-opacity:1;\" d=\"M 275.453125 279.882812 L 270.707031 281.289062 L 270.789062 278.230469 L 275.453125 279.882812 \"/>\n<path style=\"fill:none;stroke-width:1;stroke-linecap:butt;stroke-linejoin:miter;stroke:rgb(86.27451%,86.27451%,86.27451%);stroke-opacity:1;stroke-miterlimit:10;\" d=\"M 75.628906 120.535156 C 101.398438 218.261719 164.78125 270.019531 265.828125 271.066406 \"/>\n<path style=\" stroke:none;fill-rule:nonzero;fill:rgb(86.27451%,86.27451%,86.27451%);fill-opacity:1;\" d=\"M 270.535156 271.113281 L 265.8125 272.597656 L 265.84375 269.535156 L 270.535156 271.113281 \"/>\n<path style=\"fill:none;stroke-width:1;stroke-linecap:butt;stroke-linejoin:miter;stroke:rgb(86.27451%,86.27451%,86.27451%);stroke-opacity:1;stroke-miterlimit:10;\" d=\"M 75.628906 120.535156 C 57.984375 109.800781 40.414062 110.339844 26.289062 125.332031 \"/>\n<path style=\" stroke:none;fill-rule:nonzero;fill:rgb(86.27451%,86.27451%,86.27451%);fill-opacity:1;\" d=\"M 23.0625 128.761719 L 25.175781 124.285156 L 27.402344 126.382812 L 23.0625 128.761719 \"/>\n<path style=\"fill:none;stroke-width:1;stroke-linecap:butt;stroke-linejoin:miter;stroke:rgb(86.27451%,86.27451%,86.27451%);stroke-opacity:1;stroke-miterlimit:10;\" d=\"M 75.628906 120.535156 L 269.660156 143.300781 \"/>\n<path style=\" stroke:none;fill-rule:nonzero;fill:rgb(86.27451%,86.27451%,86.27451%);fill-opacity:1;\" d=\"M 274.335938 143.851562 L 269.480469 144.820312 L 269.835938 141.78125 L 274.335938 143.851562 \"/>\n<path style=\"fill:none;stroke-width:1;stroke-linecap:butt;stroke-linejoin:miter;stroke:rgb(86.27451%,86.27451%,86.27451%);stroke-opacity:1;stroke-miterlimit:10;\" d=\"M 75.628906 120.535156 C 99.074219 141.148438 124.871094 144.355469 150.320312 126.347656 \"/>\n<path style=\" stroke:none;fill-rule:nonzero;fill:rgb(86.27451%,86.27451%,86.27451%);fill-opacity:1;\" d=\"M 154.164062 123.628906 L 151.203125 127.597656 L 149.4375 125.101562 L 154.164062 123.628906 \"/>\n<path style=\"fill:none;stroke-width:1;stroke-linecap:butt;stroke-linejoin:miter;stroke:rgb(86.27451%,86.27451%,86.27451%);stroke-opacity:1;stroke-miterlimit:10;\" d=\"M 157.835938 121.03125 C 156.492188 201.488281 193.816406 255.136719 271.113281 277.4375 \"/>\n<path style=\" stroke:none;fill-rule:nonzero;fill:rgb(86.27451%,86.27451%,86.27451%);fill-opacity:1;\" d=\"M 275.636719 278.742188 L 270.691406 278.90625 L 271.539062 275.964844 L 275.636719 278.742188 \"/>\n<path style=\"fill:none;stroke-width:1;stroke-linecap:butt;stroke-linejoin:miter;stroke:rgb(86.27451%,86.27451%,86.27451%);stroke-opacity:1;stroke-miterlimit:10;\" d=\"M 157.835938 121.03125 C 157.042969 197.328125 192.730469 248.054688 266.179688 268.664062 \"/>\n<path style=\" stroke:none;fill-rule:nonzero;fill:rgb(86.27451%,86.27451%,86.27451%);fill-opacity:1;\" d=\"M 270.710938 269.9375 L 265.765625 270.136719 L 266.59375 267.191406 L 270.710938 269.9375 \"/>\n<path style=\"fill:none;stroke-width:1;stroke-linecap:butt;stroke-linejoin:miter;stroke:rgb(86.27451%,86.27451%,86.27451%);stroke-opacity:1;stroke-miterlimit:10;\" d=\"M 157.835938 121.03125 C 112.984375 89.976562 68.347656 90.441406 27.003906 125.992188 \"/>\n<path style=\" stroke:none;fill-rule:nonzero;fill:rgb(86.27451%,86.27451%,86.27451%);fill-opacity:1;\" d=\"M 23.433594 129.0625 L 26.003906 124.832031 L 28 127.152344 L 23.433594 129.0625 \"/>\n<path style=\"fill:none;stroke-width:1;stroke-linecap:butt;stroke-linejoin:miter;stroke:rgb(86.27451%,86.27451%,86.27451%);stroke-opacity:1;stroke-miterlimit:10;\" d=\"M 157.835938 121.03125 C 188.554688 158.273438 226.761719 168.78125 270.445312 148.292969 \"/>\n<path style=\" stroke:none;fill-rule:nonzero;fill:rgb(86.27451%,86.27451%,86.27451%);fill-opacity:1;\" d=\"M 274.710938 146.296875 L 271.097656 149.679688 L 269.796875 146.910156 L 274.710938 146.296875 \"/>\n<path style=\"fill:none;stroke-width:1;stroke-linecap:butt;stroke-linejoin:miter;stroke:rgb(86.27451%,86.27451%,86.27451%);stroke-opacity:1;stroke-miterlimit:10;\" d=\"M 157.835938 121.03125 C 134.390625 100.421875 108.59375 97.210938 83.144531 115.21875 \"/>\n<path style=\" stroke:none;fill-rule:nonzero;fill:rgb(86.27451%,86.27451%,86.27451%);fill-opacity:1;\" d=\"M 79.300781 117.9375 L 82.261719 113.972656 L 84.027344 116.46875 L 79.300781 117.9375 \"/>\n<path style=\"fill:none;stroke-width:1;stroke-linecap:butt;stroke-linejoin:miter;stroke:rgb(86.27451%,86.27451%,86.27451%);stroke-opacity:1;stroke-miterlimit:10;\" d=\"M 157.835938 121.03125 L 121.757812 174.585938 \"/>\n<path style=\" stroke:none;fill-rule:nonzero;fill:rgb(86.27451%,86.27451%,86.27451%);fill-opacity:1;\" d=\"M 119.128906 178.492188 L 120.488281 173.730469 L 123.027344 175.441406 L 119.128906 178.492188 \"/>\n<path style=\"fill:none;stroke-width:1;stroke-linecap:butt;stroke-linejoin:miter;stroke:rgb(86.27451%,86.27451%,86.27451%);stroke-opacity:1;stroke-miterlimit:10;\" d=\"M 157.835938 121.03125 C 143.441406 126.320312 135.257812 136.871094 137.820312 151.910156 \"/>\n<path style=\" stroke:none;fill-rule:nonzero;fill:rgb(86.27451%,86.27451%,86.27451%);fill-opacity:1;\" d=\"M 138.609375 156.550781 L 136.3125 152.167969 L 139.328125 151.652344 L 138.609375 156.550781 \"/>\n<path style=\"fill:none;stroke-width:1;stroke-linecap:butt;stroke-linejoin:miter;stroke:rgb(86.27451%,86.27451%,86.27451%);stroke-opacity:1;stroke-miterlimit:10;\" d=\"M 116.613281 182.222656 L 267.050781 266.65625 \"/>\n<path style=\" stroke:none;fill-rule:nonzero;fill:rgb(86.27451%,86.27451%,86.27451%);fill-opacity:1;\" d=\"M 271.15625 268.960938 L 266.304688 267.988281 L 267.800781 265.320312 L 271.15625 268.960938 \"/>\n<path style=\"fill:none;stroke-width:1;stroke-linecap:butt;stroke-linejoin:miter;stroke:rgb(86.27451%,86.27451%,86.27451%);stroke-opacity:1;stroke-miterlimit:10;\" d=\"M 116.613281 182.222656 L 155.285156 179.6875 \"/>\n<path style=\" stroke:none;fill-rule:nonzero;fill:rgb(86.27451%,86.27451%,86.27451%);fill-opacity:1;\" d=\"M 159.984375 179.378906 L 155.386719 181.210938 L 155.1875 178.160156 L 159.984375 179.378906 \"/>\n<path style=\"fill:none;stroke-width:1;stroke-linecap:butt;stroke-linejoin:miter;stroke:rgb(86.27451%,86.27451%,86.27451%);stroke-opacity:1;stroke-miterlimit:10;\" d=\"M 116.613281 182.222656 L 132.632812 167.21875 \"/>\n<path style=\" stroke:none;fill-rule:nonzero;fill:rgb(86.27451%,86.27451%,86.27451%);fill-opacity:1;\" d=\"M 136.066406 164 L 133.679688 168.335938 L 131.585938 166.101562 L 136.066406 164 \"/>\n<path style=\"fill:none;stroke-width:1;stroke-linecap:butt;stroke-linejoin:miter;stroke:rgb(86.27451%,86.27451%,86.27451%);stroke-opacity:1;stroke-miterlimit:10;\" d=\"M 164.472656 179.082031 L 268.003906 265.269531 \"/>\n<path style=\" stroke:none;fill-rule:nonzero;fill:rgb(86.27451%,86.27451%,86.27451%);fill-opacity:1;\" d=\"M 271.625 268.28125 L 267.027344 266.445312 L 268.984375 264.09375 L 271.625 268.28125 \"/>\n<path style=\"fill:none;stroke-width:1;stroke-linecap:butt;stroke-linejoin:miter;stroke:rgb(86.27451%,86.27451%,86.27451%);stroke-opacity:1;stroke-miterlimit:10;\" d=\"M 164.472656 179.082031 L 158.878906 130.179688 \"/>\n<path style=\" stroke:none;fill-rule:nonzero;fill:rgb(86.27451%,86.27451%,86.27451%);fill-opacity:1;\" d=\"M 158.34375 125.503906 L 160.398438 130.007812 L 157.359375 130.355469 L 158.34375 125.503906 \"/>\n<path style=\"fill:none;stroke-width:1;stroke-linecap:butt;stroke-linejoin:miter;stroke:rgb(86.27451%,86.27451%,86.27451%);stroke-opacity:1;stroke-miterlimit:10;\" d=\"M 139.351562 160.925781 C 154.070312 229.144531 196.160156 267.3125 265.847656 270.710938 \"/>\n<path style=\" stroke:none;fill-rule:nonzero;fill:rgb(86.27451%,86.27451%,86.27451%);fill-opacity:1;\" d=\"M 270.550781 270.941406 L 265.773438 272.238281 L 265.921875 269.183594 L 270.550781 270.941406 \"/>\n<path style=\"fill:none;stroke-width:1;stroke-linecap:butt;stroke-linejoin:miter;stroke:rgb(86.27451%,86.27451%,86.27451%);stroke-opacity:1;stroke-miterlimit:10;\" d=\"M 139.351562 160.925781 L 28.949219 134.179688 \"/>\n<path style=\" stroke:none;fill-rule:nonzero;fill:rgb(86.27451%,86.27451%,86.27451%);fill-opacity:1;\" d=\"M 24.375 133.070312 L 29.308594 132.695312 L 28.589844 135.667969 L 24.375 133.070312 \"/>\n<path style=\"fill:none;stroke-width:1;stroke-linecap:butt;stroke-linejoin:miter;stroke:rgb(86.27451%,86.27451%,86.27451%);stroke-opacity:1;stroke-miterlimit:10;\" d=\"M 139.351562 160.925781 C 153.742188 155.636719 161.925781 145.085938 159.367188 130.046875 \"/>\n<path style=\" stroke:none;fill-rule:nonzero;fill:rgb(86.27451%,86.27451%,86.27451%);fill-opacity:1;\" d=\"M 158.578125 125.40625 L 160.875 129.792969 L 157.859375 130.304688 L 158.578125 125.40625 \"/>\n<path style=\"fill:none;stroke-width:1;stroke-linecap:butt;stroke-linejoin:miter;stroke:rgb(86.27451%,86.27451%,86.27451%);stroke-opacity:1;stroke-miterlimit:10;\" d=\"M 269.859375 273.386719 C 268.8125 275.527344 269.019531 278.792969 270.933594 279.003906 \"/>\n<path style=\" stroke:none;fill-rule:nonzero;fill:rgb(86.27451%,86.27451%,86.27451%);fill-opacity:1;\" d=\"M 275.613281 279.519531 L 270.765625 280.527344 L 271.101562 277.484375 L 275.613281 279.519531 \"/>\n<path style=\"fill:none;stroke-width:1;stroke-linecap:butt;stroke-linejoin:miter;stroke:rgb(86.27451%,86.27451%,86.27451%);stroke-opacity:1;stroke-miterlimit:10;\" d=\"M 267.921875 276.050781 C 267.585938 278.621094 268.832031 281.820312 270.976562 281.472656 \"/>\n<path style=\" stroke:none;fill-rule:nonzero;fill:rgb(86.27451%,86.27451%,86.27451%);fill-opacity:1;\" d=\"M 275.625 280.714844 L 271.222656 282.980469 L 270.730469 279.960938 L 275.625 280.714844 \"/>\n<path style=\"fill:none;stroke-width:1;stroke-linecap:butt;stroke-linejoin:miter;stroke:rgb(86.27451%,86.27451%,86.27451%);stroke-opacity:1;stroke-miterlimit:10;\" d=\"M 162.273438 64.382812 C 177.972656 117.960938 213.785156 146.285156 269.570312 144.644531 \"/>\n<path style=\" stroke:none;fill-rule:nonzero;fill:rgb(86.27451%,86.27451%,86.27451%);fill-opacity:1;\" d=\"M 274.277344 144.507812 L 269.617188 146.175781 L 269.527344 143.117188 L 274.277344 144.507812 \"/>\n<path style=\"fill:none;stroke-width:1;stroke-linecap:butt;stroke-linejoin:miter;stroke:rgb(86.27451%,86.27451%,86.27451%);stroke-opacity:1;stroke-miterlimit:10;\" d=\"M 191.46875 20 C 187.3125 80.117188 213 122.074219 270.054688 141.410156 \"/>\n<path style=\" stroke:none;fill-rule:nonzero;fill:rgb(86.27451%,86.27451%,86.27451%);fill-opacity:1;\" d=\"M 274.511719 142.921875 L 269.5625 142.859375 L 270.542969 139.960938 L 274.511719 142.921875 \"/>\n<path style=\"fill-rule:nonzero;fill:rgb(41.176471%,41.176471%,41.176471%);fill-opacity:1;stroke-width:1;stroke-linecap:butt;stroke-linejoin:miter;stroke:rgb(0%,0%,0%);stroke-opacity:1;stroke-miterlimit:10;\" d=\"M 284.5 280 C 284.5 286 275.5 286 275.5 280 C 275.5 274 284.5 274 284.5 280 \"/>\n<path style=\"fill-rule:nonzero;fill:rgb(41.176471%,41.176471%,41.176471%);fill-opacity:1;stroke-width:1;stroke-linecap:butt;stroke-linejoin:miter;stroke:rgb(0%,0%,0%);stroke-opacity:1;stroke-miterlimit:10;\" d=\"M 279.582031 271.164062 C 279.582031 277.164062 270.582031 277.164062 270.582031 271.164062 C 270.582031 265.164062 279.582031 265.164062 279.582031 271.164062 \"/>\n<path style=\"fill-rule:nonzero;fill:rgb(41.176471%,41.176471%,41.176471%);fill-opacity:1;stroke-width:1;stroke-linecap:butt;stroke-linejoin:miter;stroke:rgb(0%,0%,0%);stroke-opacity:1;stroke-miterlimit:10;\" d=\"M 24.5 132.011719 C 24.5 138.011719 15.5 138.011719 15.5 132.011719 C 15.5 126.011719 24.5 126.011719 24.5 132.011719 \"/>\n<path style=\"fill-rule:nonzero;fill:rgb(41.176471%,41.176471%,41.176471%);fill-opacity:1;stroke-width:1;stroke-linecap:butt;stroke-linejoin:miter;stroke:rgb(0%,0%,0%);stroke-opacity:1;stroke-miterlimit:10;\" d=\"M 283.304688 144.375 C 283.304688 150.375 274.304688 150.375 274.304688 144.375 C 274.304688 138.375 283.304688 138.375 283.304688 144.375 \"/>\n<path style=\"fill-rule:nonzero;fill:rgb(41.176471%,41.176471%,41.176471%);fill-opacity:1;stroke-width:1;stroke-linecap:butt;stroke-linejoin:miter;stroke:rgb(0%,0%,0%);stroke-opacity:1;stroke-miterlimit:10;\" d=\"M 80.128906 120.535156 C 80.128906 126.535156 71.128906 126.535156 71.128906 120.535156 C 71.128906 114.535156 80.128906 114.535156 80.128906 120.535156 \"/>\n<path style=\"fill-rule:nonzero;fill:rgb(41.176471%,41.176471%,41.176471%);fill-opacity:1;stroke-width:1;stroke-linecap:butt;stroke-linejoin:miter;stroke:rgb(0%,0%,0%);stroke-opacity:1;stroke-miterlimit:10;\" d=\"M 162.335938 121.03125 C 162.335938 127.03125 153.335938 127.03125 153.335938 121.03125 C 153.335938 115.03125 162.335938 115.03125 162.335938 121.03125 \"/>\n<path style=\"fill-rule:nonzero;fill:rgb(41.176471%,41.176471%,41.176471%);fill-opacity:1;stroke-width:1;stroke-linecap:butt;stroke-linejoin:miter;stroke:rgb(0%,0%,0%);stroke-opacity:1;stroke-miterlimit:10;\" d=\"M 121.113281 182.222656 C 121.113281 188.222656 112.113281 188.222656 112.113281 182.222656 C 112.113281 176.222656 121.113281 176.222656 121.113281 182.222656 \"/>\n<path style=\"fill-rule:nonzero;fill:rgb(41.176471%,41.176471%,41.176471%);fill-opacity:1;stroke-width:1;stroke-linecap:butt;stroke-linejoin:miter;stroke:rgb(0%,0%,0%);stroke-opacity:1;stroke-miterlimit:10;\" d=\"M 168.972656 179.082031 C 168.972656 185.082031 159.972656 185.082031 159.972656 179.082031 C 159.972656 173.082031 168.972656 173.082031 168.972656 179.082031 \"/>\n<path style=\"fill-rule:nonzero;fill:rgb(41.176471%,41.176471%,41.176471%);fill-opacity:1;stroke-width:1;stroke-linecap:butt;stroke-linejoin:miter;stroke:rgb(0%,0%,0%);stroke-opacity:1;stroke-miterlimit:10;\" d=\"M 143.851562 160.925781 C 143.851562 166.925781 134.851562 166.925781 134.851562 160.925781 C 134.851562 154.925781 143.851562 154.925781 143.851562 160.925781 \"/>\n<path style=\"fill-rule:nonzero;fill:rgb(41.176471%,41.176471%,41.176471%);fill-opacity:1;stroke-width:1;stroke-linecap:butt;stroke-linejoin:miter;stroke:rgb(0%,0%,0%);stroke-opacity:1;stroke-miterlimit:10;\" d=\"M 274.359375 273.386719 C 274.359375 279.386719 265.359375 279.386719 265.359375 273.386719 C 265.359375 267.386719 274.359375 267.386719 274.359375 273.386719 \"/>\n<path style=\"fill-rule:nonzero;fill:rgb(41.176471%,41.176471%,41.176471%);fill-opacity:1;stroke-width:1;stroke-linecap:butt;stroke-linejoin:miter;stroke:rgb(0%,0%,0%);stroke-opacity:1;stroke-miterlimit:10;\" d=\"M 272.421875 276.050781 C 272.421875 282.050781 263.421875 282.050781 263.421875 276.050781 C 263.421875 270.050781 272.421875 270.050781 272.421875 276.050781 \"/>\n<path style=\"fill-rule:nonzero;fill:rgb(41.176471%,41.176471%,41.176471%);fill-opacity:1;stroke-width:1;stroke-linecap:butt;stroke-linejoin:miter;stroke:rgb(0%,0%,0%);stroke-opacity:1;stroke-miterlimit:10;\" d=\"M 166.773438 64.382812 C 166.773438 70.382812 157.773438 70.382812 157.773438 64.382812 C 157.773438 58.382812 166.773438 58.382812 166.773438 64.382812 \"/>\n<path style=\"fill-rule:nonzero;fill:rgb(41.176471%,41.176471%,41.176471%);fill-opacity:1;stroke-width:1;stroke-linecap:butt;stroke-linejoin:miter;stroke:rgb(0%,0%,0%);stroke-opacity:1;stroke-miterlimit:10;\" d=\"M 195.96875 20 C 195.96875 26 186.96875 26 186.96875 20 C 186.96875 14 195.96875 14 195.96875 20 \"/>\n</g>\n</svg>\n"
          },
          "metadata": {
            "tags": [],
            "image/svg+xml": {
              "isolated": true
            }
          },
          "execution_count": 8
        }
      ]
    },
    {
      "cell_type": "code",
      "metadata": {
        "id": "ME1O0bbNX6wp"
      },
      "source": [
        "## compute normalized weights \n",
        "mw = np.max(G.es['weight'])\n",
        "G.es()['normalized_weight'] = [w/mw for w in G.es()['weight']]"
      ],
      "execution_count": 9,
      "outputs": []
    },
    {
      "cell_type": "code",
      "metadata": {
        "id": "MGlgKEG6YC_i"
      },
      "source": [
        "## directed degree centrality\n",
        "def degree_centrality(g, weights=None):\n",
        "    n = g.vcount()\n",
        "    if g.is_directed():\n",
        "        dc = [sum(x)/(2*(n-1)) for x in zip(G.strength(mode='in',weights=weights),\\\n",
        "              G.strength(mode='out',weights=weights))]\n",
        "    else:\n",
        "        dc = [x/(n-1) for x in G.strength(weights=weights)]\n",
        "    return dc"
      ],
      "execution_count": 10,
      "outputs": []
    },
    {
      "cell_type": "code",
      "metadata": {
        "id": "mzdu6wb5YEip",
        "outputId": "612e76a3-e27b-403b-83f9-133b98350ac8",
        "colab": {
          "base_uri": "https://localhost:8080/",
          "height": 195
        }
      },
      "source": [
        "## compute several centrality measures\n",
        "C = pd.DataFrame({'airport':G.vs()['name'],\\\n",
        "                  'degree':degree_centrality(G,weights='normalized_weight'),\\\n",
        "                  'pagerank':G.pagerank(weights='weight'),'authority':G.authority_score(weights='weight'),\\\n",
        "                  'hub':G.hub_score(weights='weight'),'between':G.betweenness(),\\\n",
        "                  'closeness':G.closeness()})\n",
        "## normalize betweenness\n",
        "n = G.vcount()\n",
        "C['between'] = [2*x/((n-1)*(n-2)) for x in C['between']]\n",
        "## sort w.r.t. degree centrality\n",
        "Cs = C.sort_values(by='degree', ascending=False)\n",
        "df = Cs.head()\n",
        "df"
      ],
      "execution_count": 11,
      "outputs": [
        {
          "output_type": "execute_result",
          "data": {
            "text/html": [
              "<div>\n",
              "<style scoped>\n",
              "    .dataframe tbody tr th:only-of-type {\n",
              "        vertical-align: middle;\n",
              "    }\n",
              "\n",
              "    .dataframe tbody tr th {\n",
              "        vertical-align: top;\n",
              "    }\n",
              "\n",
              "    .dataframe thead th {\n",
              "        text-align: right;\n",
              "    }\n",
              "</style>\n",
              "<table border=\"1\" class=\"dataframe\">\n",
              "  <thead>\n",
              "    <tr style=\"text-align: right;\">\n",
              "      <th></th>\n",
              "      <th>airport</th>\n",
              "      <th>degree</th>\n",
              "      <th>pagerank</th>\n",
              "      <th>authority</th>\n",
              "      <th>hub</th>\n",
              "      <th>between</th>\n",
              "      <th>closeness</th>\n",
              "    </tr>\n",
              "  </thead>\n",
              "  <tbody>\n",
              "    <tr>\n",
              "      <th>0</th>\n",
              "      <td>JFK</td>\n",
              "      <td>0.173125</td>\n",
              "      <td>0.342720</td>\n",
              "      <td>1.000000</td>\n",
              "      <td>0.373760</td>\n",
              "      <td>0.647727</td>\n",
              "      <td>0.705882</td>\n",
              "    </tr>\n",
              "    <tr>\n",
              "      <th>2</th>\n",
              "      <td>BUF</td>\n",
              "      <td>0.101629</td>\n",
              "      <td>0.195702</td>\n",
              "      <td>0.261299</td>\n",
              "      <td>1.000000</td>\n",
              "      <td>0.167929</td>\n",
              "      <td>0.705882</td>\n",
              "    </tr>\n",
              "    <tr>\n",
              "      <th>4</th>\n",
              "      <td>ROC</td>\n",
              "      <td>0.054908</td>\n",
              "      <td>0.109433</td>\n",
              "      <td>0.141841</td>\n",
              "      <td>0.546989</td>\n",
              "      <td>0.000000</td>\n",
              "      <td>0.631579</td>\n",
              "    </tr>\n",
              "    <tr>\n",
              "      <th>5</th>\n",
              "      <td>SYR</td>\n",
              "      <td>0.044959</td>\n",
              "      <td>0.097118</td>\n",
              "      <td>0.113975</td>\n",
              "      <td>0.459400</td>\n",
              "      <td>0.243687</td>\n",
              "      <td>0.750000</td>\n",
              "    </tr>\n",
              "    <tr>\n",
              "      <th>1</th>\n",
              "      <td>LGA</td>\n",
              "      <td>0.040011</td>\n",
              "      <td>0.108312</td>\n",
              "      <td>0.213367</td>\n",
              "      <td>0.078989</td>\n",
              "      <td>0.286616</td>\n",
              "      <td>0.750000</td>\n",
              "    </tr>\n",
              "  </tbody>\n",
              "</table>\n",
              "</div>"
            ],
            "text/plain": [
              "  airport    degree  pagerank  authority       hub   between  closeness\n",
              "0     JFK  0.173125  0.342720   1.000000  0.373760  0.647727   0.705882\n",
              "2     BUF  0.101629  0.195702   0.261299  1.000000  0.167929   0.705882\n",
              "4     ROC  0.054908  0.109433   0.141841  0.546989  0.000000   0.631579\n",
              "5     SYR  0.044959  0.097118   0.113975  0.459400  0.243687   0.750000\n",
              "1     LGA  0.040011  0.108312   0.213367  0.078989  0.286616   0.750000"
            ]
          },
          "metadata": {
            "tags": []
          },
          "execution_count": 11
        }
      ]
    },
    {
      "cell_type": "markdown",
      "metadata": {
        "id": "OUK8CSXmOxa9"
      },
      "source": [
        "# Problem 2\n",
        "\n",
        "All the centrality measure increase with increase in degree"
      ]
    },
    {
      "cell_type": "code",
      "metadata": {
        "id": "8jOR8P9zGFC3"
      },
      "source": [
        "## fast Chung-Lu: generate m edges w.r.t. distribution d\n",
        "def fastCL(d, m):\n",
        "    n = len(d)\n",
        "    s = np.sum(d)\n",
        "    p = [i/s for i in d]\n",
        "    target = m\n",
        "    tples = []\n",
        "    while len(tples) < target:\n",
        "        s = target - len(tples)\n",
        "        e0 = np.random.choice(n, size=s, replace=True, p=p)\n",
        "        e1 = np.random.choice(n, size=s, replace=True, p=p)\n",
        "        tples.extend([(min(e0[i],e1[i]),max(e0[i],e1[i])) for i in range(len(e0)) if e0[i]!=e1[i]]) ## ignore loops\n",
        "        tples = list(set(tples)) ## drop collisions\n",
        "    return tples\n"
      ],
      "execution_count": 12,
      "outputs": []
    },
    {
      "cell_type": "code",
      "metadata": {
        "id": "_oUgO4twHnLA"
      },
      "source": [
        "## power law graph\n",
        "gamma = 2.5\n",
        "n = 10000\n",
        "delta = 1\n",
        "Delta = np.sqrt(n)\n",
        "W = []\n",
        "for i in np.arange(1,n+1):\n",
        "    W.append(delta * (n/(i-1+n/(Delta/delta)**(gamma-1)))**(1/(gamma-1)))\n",
        "\n",
        "deg = [int(np.round(w)) for w in W]\n",
        "m = int(np.mean(deg)*n/2)\n",
        "tpl = fastCL(deg,m)\n",
        "g1 = ig.Graph.TupleList(tpl,directed=False)"
      ],
      "execution_count": 13,
      "outputs": []
    },
    {
      "cell_type": "code",
      "metadata": {
        "id": "S_1NNa3FwwsT"
      },
      "source": [
        "## directed degree centrality\n",
        "def degree_centrality(g, weights=None):\n",
        "    n = g.vcount()\n",
        "    if g.is_directed():\n",
        "        dc = [sum(x)/(2*(n-1)) for x in zip(G.strength(mode='in',weights=weights),\\\n",
        "              G.strength(mode='out',weights=weights))]\n",
        "    else:\n",
        "        dc = [x/(n-1) for x in g.strength(weights=weights)]\n",
        "    return dc"
      ],
      "execution_count": 14,
      "outputs": []
    },
    {
      "cell_type": "code",
      "metadata": {
        "id": "-avXZA1nIbip",
        "outputId": "ad205da3-75c5-4cce-996e-160d2461ee71",
        "colab": {
          "base_uri": "https://localhost:8080/",
          "height": 249
        }
      },
      "source": [
        "## compute several centrality measures\n",
        "C = pd.DataFrame({'id':g1.vs()['name'],\\\n",
        "                  'degree centrality':degree_centrality(g1),\\\n",
        "                  'pagerank':g1.pagerank(),'authority':g1.authority_score(),\\\n",
        "                  'hub':g1.hub_score(),'between':g1.betweenness(directed=False),\\\n",
        "                  'closeness':g1.closeness(),'degree':g1.degree()})\n",
        "## normalize betweenness\n",
        "n = g1.vcount()\n",
        "C['between'] = [2*x/((n-1)*(n-2)) for x in C['between']]\n",
        "## sort w.r.t. degree centrality\n",
        "Cs = C.sort_values(by='degree',ascending=False)\n",
        "df = Cs.head()\n",
        "df"
      ],
      "execution_count": 15,
      "outputs": [
        {
          "output_type": "stream",
          "text": [
            "/usr/local/lib/python3.6/dist-packages/ipykernel_launcher.py:2: RuntimeWarning: closeness centrality is not well-defined for disconnected graphs at ../../../source/igraph/src/centrality.c:2874\n",
            "  \n"
          ],
          "name": "stderr"
        },
        {
          "output_type": "execute_result",
          "data": {
            "text/html": [
              "<div>\n",
              "<style scoped>\n",
              "    .dataframe tbody tr th:only-of-type {\n",
              "        vertical-align: middle;\n",
              "    }\n",
              "\n",
              "    .dataframe tbody tr th {\n",
              "        vertical-align: top;\n",
              "    }\n",
              "\n",
              "    .dataframe thead th {\n",
              "        text-align: right;\n",
              "    }\n",
              "</style>\n",
              "<table border=\"1\" class=\"dataframe\">\n",
              "  <thead>\n",
              "    <tr style=\"text-align: right;\">\n",
              "      <th></th>\n",
              "      <th>id</th>\n",
              "      <th>degree centrality</th>\n",
              "      <th>pagerank</th>\n",
              "      <th>authority</th>\n",
              "      <th>hub</th>\n",
              "      <th>between</th>\n",
              "      <th>closeness</th>\n",
              "      <th>degree</th>\n",
              "    </tr>\n",
              "  </thead>\n",
              "  <tbody>\n",
              "    <tr>\n",
              "      <th>103</th>\n",
              "      <td>0</td>\n",
              "      <td>0.013498</td>\n",
              "      <td>0.003041</td>\n",
              "      <td>1.000000</td>\n",
              "      <td>1.000000</td>\n",
              "      <td>0.078536</td>\n",
              "      <td>0.002887</td>\n",
              "      <td>107</td>\n",
              "    </tr>\n",
              "    <tr>\n",
              "      <th>173</th>\n",
              "      <td>1</td>\n",
              "      <td>0.012363</td>\n",
              "      <td>0.002916</td>\n",
              "      <td>0.789246</td>\n",
              "      <td>0.789246</td>\n",
              "      <td>0.053485</td>\n",
              "      <td>0.002886</td>\n",
              "      <td>98</td>\n",
              "    </tr>\n",
              "    <tr>\n",
              "      <th>32</th>\n",
              "      <td>2</td>\n",
              "      <td>0.011984</td>\n",
              "      <td>0.002763</td>\n",
              "      <td>0.849806</td>\n",
              "      <td>0.849806</td>\n",
              "      <td>0.061393</td>\n",
              "      <td>0.002887</td>\n",
              "      <td>95</td>\n",
              "    </tr>\n",
              "    <tr>\n",
              "      <th>113</th>\n",
              "      <td>3</td>\n",
              "      <td>0.011606</td>\n",
              "      <td>0.002728</td>\n",
              "      <td>0.644813</td>\n",
              "      <td>0.644813</td>\n",
              "      <td>0.056185</td>\n",
              "      <td>0.002886</td>\n",
              "      <td>92</td>\n",
              "    </tr>\n",
              "    <tr>\n",
              "      <th>286</th>\n",
              "      <td>5</td>\n",
              "      <td>0.011101</td>\n",
              "      <td>0.002507</td>\n",
              "      <td>0.956843</td>\n",
              "      <td>0.956843</td>\n",
              "      <td>0.067923</td>\n",
              "      <td>0.002888</td>\n",
              "      <td>88</td>\n",
              "    </tr>\n",
              "  </tbody>\n",
              "</table>\n",
              "</div>"
            ],
            "text/plain": [
              "     id  degree centrality  pagerank  ...   between  closeness  degree\n",
              "103   0           0.013498  0.003041  ...  0.078536   0.002887     107\n",
              "173   1           0.012363  0.002916  ...  0.053485   0.002886      98\n",
              "32    2           0.011984  0.002763  ...  0.061393   0.002887      95\n",
              "113   3           0.011606  0.002728  ...  0.056185   0.002886      92\n",
              "286   5           0.011101  0.002507  ...  0.067923   0.002888      88\n",
              "\n",
              "[5 rows x 8 columns]"
            ]
          },
          "metadata": {
            "tags": []
          },
          "execution_count": 15
        }
      ]
    },
    {
      "cell_type": "code",
      "metadata": {
        "id": "lm4skXJpgI0t",
        "outputId": "1bc83733-69c4-400f-eedc-63f2e9b2f879",
        "colab": {
          "base_uri": "https://localhost:8080/",
          "height": 285
        }
      },
      "source": [
        "arr = [0]*df.degree.max()\n",
        "arr2 = [0]*df.degree.max()\n",
        "for i in range(df.degree.max()):\n",
        "  arr[i] = float(C.query(\"degree == \"+str(i+1))['degree centrality'].mean())\n",
        "  arr2[i] = i+1\n",
        "  \n",
        "degree_centrality = np.array(arr)\n",
        "np.nan_to_num(degree_centrality);\n",
        "\n",
        "plt.plot(degree_centrality)\n",
        "plt.xlabel('Degree',fontsize=14)\n",
        "plt.ylabel('Average Degree Centrality',fontsize=14);\n",
        "\n"
      ],
      "execution_count": 16,
      "outputs": [
        {
          "output_type": "display_data",
          "data": {
            "image/png": "[encoded data removed]",
            "text/plain": [
              "<Figure size 432x288 with 1 Axes>"
            ]
          },
          "metadata": {
            "tags": [],
            "needs_background": "light"
          }
        }
      ]
    },
    {
      "cell_type": "markdown",
      "metadata": {
        "id": "lV3L-k8SPt6Z"
      },
      "source": [
        "Degree Centrality is linear with the degree"
      ]
    },
    {
      "cell_type": "code",
      "metadata": {
        "id": "jBE6nBOUre_r",
        "outputId": "dcb031b2-e9e2-4b79-ec44-9565859195ba",
        "colab": {
          "base_uri": "https://localhost:8080/",
          "height": 283
        }
      },
      "source": [
        "arr = [0]*df.degree.max()\n",
        "for i in range(df.degree.max()):\n",
        "  arr[i] = float(C.query(\"degree == \"+str(i+1))['pagerank'].mean())\n",
        "\n",
        "pagerank_c = np.array(arr)\n",
        "np.nan_to_num(pagerank_c);\n",
        "\n",
        "plt.plot(pagerank_c)\n",
        "plt.xlabel('Degree',fontsize=14)\n",
        "plt.ylabel('Average Pagerank',fontsize=14);"
      ],
      "execution_count": 17,
      "outputs": [
        {
          "output_type": "display_data",
          "data": {
            "image/png": "[encoded data removed]",
            "text/plain": [
              "<Figure size 432x288 with 1 Axes>"
            ]
          },
          "metadata": {
            "tags": [],
            "needs_background": "light"
          }
        }
      ]
    },
    {
      "cell_type": "markdown",
      "metadata": {
        "id": "e2f063bbP49a"
      },
      "source": [
        "Average Pagerank also increases with increase in degree "
      ]
    },
    {
      "cell_type": "code",
      "metadata": {
        "id": "iwou1KadpZqU",
        "outputId": "01067b11-655a-4e00-e704-034ff10eae5e",
        "colab": {
          "base_uri": "https://localhost:8080/",
          "height": 283
        }
      },
      "source": [
        "arr = [0]*df.degree.max()\n",
        "for i in range(df.degree.max()):\n",
        "  arr[i] = float(C.query(\"degree == \"+str(i+1))['authority'].mean())\n",
        "\n",
        "authority_c = np.array(arr)\n",
        "np.nan_to_num(authority_c);\n",
        "\n",
        "plt.plot(authority_c)\n",
        "plt.xlabel('Degree',fontsize=14)\n",
        "plt.ylabel('Average authority',fontsize=14);"
      ],
      "execution_count": 18,
      "outputs": [
        {
          "output_type": "display_data",
          "data": {
            "image/png": "[encoded data removed]",
            "text/plain": [
              "<Figure size 432x288 with 1 Axes>"
            ]
          },
          "metadata": {
            "tags": [],
            "needs_background": "light"
          }
        }
      ]
    },
    {
      "cell_type": "markdown",
      "metadata": {
        "id": "J9PBYeBTQtC6"
      },
      "source": [
        "Average Authority also increases with increase in degree"
      ]
    },
    {
      "cell_type": "code",
      "metadata": {
        "id": "AH-xXChXuwuJ",
        "outputId": "d8e08b78-6273-45aa-c2c9-6d5bb18c51e9",
        "colab": {
          "base_uri": "https://localhost:8080/",
          "height": 283
        }
      },
      "source": [
        "arr = [0]*df.degree.max()\n",
        "for i in range(df.degree.max()):\n",
        "  arr[i] = float(C.query(\"degree == \"+str(i+1))['hub'].mean())\n",
        "\n",
        "hub_c = np.array(arr)\n",
        "np.nan_to_num(hub_c);\n",
        "\n",
        "plt.plot(hub_c)\n",
        "plt.xlabel('Degree',fontsize=14)\n",
        "plt.ylabel('Average hub',fontsize=14);"
      ],
      "execution_count": 19,
      "outputs": [
        {
          "output_type": "display_data",
          "data": {
            "image/png": "[encoded data removed]",
            "text/plain": [
              "<Figure size 432x288 with 1 Axes>"
            ]
          },
          "metadata": {
            "tags": [],
            "needs_background": "light"
          }
        }
      ]
    },
    {
      "cell_type": "markdown",
      "metadata": {
        "id": "VJRBq_WbQSIM"
      },
      "source": [
        "Average hub also increases with increase in degree"
      ]
    },
    {
      "cell_type": "code",
      "metadata": {
        "id": "njuR3ko_spMS",
        "outputId": "a3dd1d03-0683-48ff-d7a3-8b14b0d38ac2",
        "colab": {
          "base_uri": "https://localhost:8080/",
          "height": 283
        }
      },
      "source": [
        "arr = [0]*df.degree.max()\n",
        "for i in range(df.degree.max()):\n",
        "  arr[i] = float(C.query(\"degree == \"+str(i+1))['between'].mean())\n",
        "\n",
        "between_c = np.array(arr)\n",
        "np.nan_to_num(between_c);\n",
        "\n",
        "plt.plot(between_c)\n",
        "plt.xlabel('Degree',fontsize=14)\n",
        "plt.ylabel('Average Betweeness',fontsize=14);"
      ],
      "execution_count": 20,
      "outputs": [
        {
          "output_type": "display_data",
          "data": {
            "image/png": "[encoded data removed]",
            "text/plain": [
              "<Figure size 432x288 with 1 Axes>"
            ]
          },
          "metadata": {
            "tags": [],
            "needs_background": "light"
          }
        }
      ]
    },
    {
      "cell_type": "markdown",
      "metadata": {
        "id": "cnoYiT4uQx_j"
      },
      "source": [
        "Average Betweeness also increases with increase in degree\n"
      ]
    },
    {
      "cell_type": "code",
      "metadata": {
        "id": "eFYBF27ts20T",
        "outputId": "f93255c9-b081-437e-d347-8749151c6315",
        "colab": {
          "base_uri": "https://localhost:8080/",
          "height": 284
        }
      },
      "source": [
        "arr = [0]*df.degree.max()\n",
        "for i in range(df.degree.max()):\n",
        "  arr[i] = float(C.query(\"degree == \"+str(i+1))['closeness'].mean())\n",
        "\n",
        "between_c = np.array(arr)\n",
        "np.nan_to_num(between_c);\n",
        "\n",
        "plt.plot(between_c)\n",
        "plt.xlabel('Degree',fontsize=14)\n",
        "plt.ylabel('Average closeness',fontsize=14);"
      ],
      "execution_count": 21,
      "outputs": [
        {
          "output_type": "display_data",
          "data": {
            "image/png": "[encoded data removed]",
            "text/plain": [
              "<Figure size 432x288 with 1 Axes>"
            ]
          },
          "metadata": {
            "tags": [],
            "needs_background": "light"
          }
        }
      ]
    },
    {
      "cell_type": "code",
      "metadata": {
        "id": "HchfJ0IRXH58"
      },
      "source": [
        ""
      ],
      "execution_count": 21,
      "outputs": []
    },
    {
      "cell_type": "markdown",
      "metadata": {
        "id": "Mt1IpPCnQY22"
      },
      "source": [
        "Average Closeness also increases from small degrees"
      ]
    },
    {
      "cell_type": "markdown",
      "metadata": {
        "id": "PDBFvbaLQhwN"
      },
      "source": [
        "# Problem 3\n",
        "\n",
        "*   Desgree Centrality (Nodes with large score to be deleted: 2 & Low: 178)  \n",
        "*   Pagerank (Nodes with large score need to be deleted: 2 & Low: 35)\n",
        "*   Authority (Nodes with large score need to be deleted: 2 & Low: 6)\n",
        "*   Hub (Nodes with large score need to be deleted: 2 & Low: 461)\n",
        "*   Betweeness (Nodes with large score need to be deleted: 4 & Low: 461)\n",
        "*   Closeness (Nodes with large score need to be deleted: 1 & 461)\n",
        "\n"
      ]
    },
    {
      "cell_type": "code",
      "metadata": {
        "id": "t54LeFEFKl8F"
      },
      "source": [
        "g_new = g.copy()\n",
        "cl = g_new.components(mode = 'WEAK').membership\n",
        "\n",
        "for i in range(len(cl)):\n",
        "  if cl[i] == 1:\n",
        "    g_new.delete_vertices(i)\n",
        "\n",
        "g_new = g_new.subgraph([v for v in g_new.vs() if v.degree()>0])\n",
        "\n",
        "g_new.is_connected(mode='WEAK')\n",
        "c = g_new.vcount()"
      ],
      "execution_count": 22,
      "outputs": []
    },
    {
      "cell_type": "code",
      "metadata": {
        "id": "sj0AZpeSRO9p"
      },
      "source": [
        "## compute normalized weights \n",
        "mw = np.max(g_new.es['weight'])\n",
        "g_new.es()['normalized_weight'] = [w/mw for w in g_new.es()['weight']]"
      ],
      "execution_count": 23,
      "outputs": []
    },
    {
      "cell_type": "code",
      "metadata": {
        "id": "NKFy95xuRgMU"
      },
      "source": [
        "## directed degree centrality\n",
        "def degree_centrality(g, weights=None):\n",
        "    n = g.vcount()\n",
        "    if g.is_directed():\n",
        "        dc = [sum(x)/(2*(n-1)) for x in zip(g.strength(mode='in',weights=weights),\\\n",
        "              g.strength(mode='out',weights=weights))]\n",
        "    else:\n",
        "        dc = [x/(n-1) for x in g.strength(weights=weights)]\n",
        "    return dc"
      ],
      "execution_count": 24,
      "outputs": []
    },
    {
      "cell_type": "code",
      "metadata": {
        "id": "U2i0WBQ_mJ6y",
        "outputId": "01c3759d-4fac-4663-ea79-805f4eac0416",
        "colab": {
          "base_uri": "https://localhost:8080/",
          "height": 195
        }
      },
      "source": [
        "## compute several centrality measures\n",
        "C = pd.DataFrame({'airport':g_new.vs()['name'],\\\n",
        "                  'degree centraliy':degree_centrality(g_new,weights='normalized_weight'),\\\n",
        "                  'pagerank':g_new.pagerank(weights='weight'),'authority':g_new.authority_score(weights='weight'),\\\n",
        "                  'hub':g_new.hub_score(weights='weight'),'between':g_new.betweenness(),\\\n",
        "                  'closeness':g_new.closeness()})\n",
        "## normalize betweenness\n",
        "n = g_new.vcount()\n",
        "C['between'] = [2*x/((n-1)*(n-2)) for x in C['between']]\n",
        "## sort w.r.t. degree centrality\n",
        "Cs = C.sort_values(by='degree centraliy', ascending=False,ignore_index=False)\n",
        "Cs.head()"
      ],
      "execution_count": 25,
      "outputs": [
        {
          "output_type": "execute_result",
          "data": {
            "text/html": [
              "<div>\n",
              "<style scoped>\n",
              "    .dataframe tbody tr th:only-of-type {\n",
              "        vertical-align: middle;\n",
              "    }\n",
              "\n",
              "    .dataframe tbody tr th {\n",
              "        vertical-align: top;\n",
              "    }\n",
              "\n",
              "    .dataframe thead th {\n",
              "        text-align: right;\n",
              "    }\n",
              "</style>\n",
              "<table border=\"1\" class=\"dataframe\">\n",
              "  <thead>\n",
              "    <tr style=\"text-align: right;\">\n",
              "      <th></th>\n",
              "      <th>airport</th>\n",
              "      <th>degree centraliy</th>\n",
              "      <th>pagerank</th>\n",
              "      <th>authority</th>\n",
              "      <th>hub</th>\n",
              "      <th>between</th>\n",
              "      <th>closeness</th>\n",
              "    </tr>\n",
              "  </thead>\n",
              "  <tbody>\n",
              "    <tr>\n",
              "      <th>3</th>\n",
              "      <td>ATL</td>\n",
              "      <td>0.053513</td>\n",
              "      <td>0.051337</td>\n",
              "      <td>1.000000</td>\n",
              "      <td>1.000000</td>\n",
              "      <td>0.088927</td>\n",
              "      <td>0.593548</td>\n",
              "    </tr>\n",
              "    <tr>\n",
              "      <th>9</th>\n",
              "      <td>ORD</td>\n",
              "      <td>0.039813</td>\n",
              "      <td>0.037664</td>\n",
              "      <td>0.837524</td>\n",
              "      <td>0.837720</td>\n",
              "      <td>0.056191</td>\n",
              "      <td>0.598958</td>\n",
              "    </tr>\n",
              "    <tr>\n",
              "      <th>11</th>\n",
              "      <td>DFW</td>\n",
              "      <td>0.034460</td>\n",
              "      <td>0.035132</td>\n",
              "      <td>0.714629</td>\n",
              "      <td>0.718580</td>\n",
              "      <td>0.064718</td>\n",
              "      <td>0.579345</td>\n",
              "    </tr>\n",
              "    <tr>\n",
              "      <th>1</th>\n",
              "      <td>LAX</td>\n",
              "      <td>0.029772</td>\n",
              "      <td>0.026637</td>\n",
              "      <td>0.765373</td>\n",
              "      <td>0.768892</td>\n",
              "      <td>0.051827</td>\n",
              "      <td>0.559611</td>\n",
              "    </tr>\n",
              "    <tr>\n",
              "      <th>10</th>\n",
              "      <td>LAS</td>\n",
              "      <td>0.027570</td>\n",
              "      <td>0.026369</td>\n",
              "      <td>0.654271</td>\n",
              "      <td>0.659883</td>\n",
              "      <td>0.092798</td>\n",
              "      <td>0.579345</td>\n",
              "    </tr>\n",
              "  </tbody>\n",
              "</table>\n",
              "</div>"
            ],
            "text/plain": [
              "   airport  degree centraliy  pagerank  ...       hub   between  closeness\n",
              "3      ATL          0.053513  0.051337  ...  1.000000  0.088927   0.593548\n",
              "9      ORD          0.039813  0.037664  ...  0.837720  0.056191   0.598958\n",
              "11     DFW          0.034460  0.035132  ...  0.718580  0.064718   0.579345\n",
              "1      LAX          0.029772  0.026637  ...  0.768892  0.051827   0.559611\n",
              "10     LAS          0.027570  0.026369  ...  0.659883  0.092798   0.579345\n",
              "\n",
              "[5 rows x 7 columns]"
            ]
          },
          "metadata": {
            "tags": []
          },
          "execution_count": 25
        }
      ]
    },
    {
      "cell_type": "code",
      "metadata": {
        "id": "yoDnfJa6Rp_i",
        "outputId": "cb047a24-db2c-404e-b760-7e9b7d971513",
        "colab": {
          "base_uri": "https://localhost:8080/",
          "height": 195
        }
      },
      "source": [
        "## compute several centrality measures\n",
        "C = pd.DataFrame({'airport':g_new.vs()['name'],\\\n",
        "                  'degree centraliy':degree_centrality(g_new,weights='normalized_weight'),\\\n",
        "                  'pagerank':g_new.pagerank(weights='weight'),'authority':g_new.authority_score(weights='weight'),\\\n",
        "                  'hub':g_new.hub_score(weights='weight'),'between':g_new.betweenness(),\\\n",
        "                  'closeness':g_new.closeness()})\n",
        "## normalize betweenness\n",
        "n = g_new.vcount()\n",
        "C['between'] = [2*x/((n-1)*(n-2)) for x in C['between']]\n",
        "## sort w.r.t. degree centrality\n",
        "Cs = C.sort_values(by='degree centraliy', ascending=False,ignore_index=True)\n",
        "Cs.head()"
      ],
      "execution_count": 26,
      "outputs": [
        {
          "output_type": "execute_result",
          "data": {
            "text/html": [
              "<div>\n",
              "<style scoped>\n",
              "    .dataframe tbody tr th:only-of-type {\n",
              "        vertical-align: middle;\n",
              "    }\n",
              "\n",
              "    .dataframe tbody tr th {\n",
              "        vertical-align: top;\n",
              "    }\n",
              "\n",
              "    .dataframe thead th {\n",
              "        text-align: right;\n",
              "    }\n",
              "</style>\n",
              "<table border=\"1\" class=\"dataframe\">\n",
              "  <thead>\n",
              "    <tr style=\"text-align: right;\">\n",
              "      <th></th>\n",
              "      <th>airport</th>\n",
              "      <th>degree centraliy</th>\n",
              "      <th>pagerank</th>\n",
              "      <th>authority</th>\n",
              "      <th>hub</th>\n",
              "      <th>between</th>\n",
              "      <th>closeness</th>\n",
              "    </tr>\n",
              "  </thead>\n",
              "  <tbody>\n",
              "    <tr>\n",
              "      <th>0</th>\n",
              "      <td>ATL</td>\n",
              "      <td>0.053513</td>\n",
              "      <td>0.051337</td>\n",
              "      <td>1.000000</td>\n",
              "      <td>1.000000</td>\n",
              "      <td>0.088927</td>\n",
              "      <td>0.593548</td>\n",
              "    </tr>\n",
              "    <tr>\n",
              "      <th>1</th>\n",
              "      <td>ORD</td>\n",
              "      <td>0.039813</td>\n",
              "      <td>0.037664</td>\n",
              "      <td>0.837524</td>\n",
              "      <td>0.837720</td>\n",
              "      <td>0.056191</td>\n",
              "      <td>0.598958</td>\n",
              "    </tr>\n",
              "    <tr>\n",
              "      <th>2</th>\n",
              "      <td>DFW</td>\n",
              "      <td>0.034460</td>\n",
              "      <td>0.035132</td>\n",
              "      <td>0.714629</td>\n",
              "      <td>0.718580</td>\n",
              "      <td>0.064718</td>\n",
              "      <td>0.579345</td>\n",
              "    </tr>\n",
              "    <tr>\n",
              "      <th>3</th>\n",
              "      <td>LAX</td>\n",
              "      <td>0.029772</td>\n",
              "      <td>0.026637</td>\n",
              "      <td>0.765373</td>\n",
              "      <td>0.768892</td>\n",
              "      <td>0.051827</td>\n",
              "      <td>0.559611</td>\n",
              "    </tr>\n",
              "    <tr>\n",
              "      <th>4</th>\n",
              "      <td>LAS</td>\n",
              "      <td>0.027570</td>\n",
              "      <td>0.026369</td>\n",
              "      <td>0.654271</td>\n",
              "      <td>0.659883</td>\n",
              "      <td>0.092798</td>\n",
              "      <td>0.579345</td>\n",
              "    </tr>\n",
              "  </tbody>\n",
              "</table>\n",
              "</div>"
            ],
            "text/plain": [
              "  airport  degree centraliy  pagerank  authority       hub   between  closeness\n",
              "0     ATL          0.053513  0.051337   1.000000  1.000000  0.088927   0.593548\n",
              "1     ORD          0.039813  0.037664   0.837524  0.837720  0.056191   0.598958\n",
              "2     DFW          0.034460  0.035132   0.714629  0.718580  0.064718   0.579345\n",
              "3     LAX          0.029772  0.026637   0.765373  0.768892  0.051827   0.559611\n",
              "4     LAS          0.027570  0.026369   0.654271  0.659883  0.092798   0.579345"
            ]
          },
          "metadata": {
            "tags": []
          },
          "execution_count": 26
        }
      ]
    },
    {
      "cell_type": "code",
      "metadata": {
        "id": "tI9YZOlhJI4-",
        "outputId": "9d2a9859-c7ce-4666-c818-2dcd91adc787",
        "colab": {
          "base_uri": "https://localhost:8080/"
        }
      },
      "source": [
        "g_new.is_connected(mode='WEAK')\n",
        "g_centr = g_new.copy()\n",
        "cond = True\n",
        "i = 0\n",
        "while cond:\n",
        "  g_centr.delete_vertices(Cs.airport[i])\n",
        "  i+=1\n",
        "  if not g_centr.is_connected(mode='WEAK') or g_centr.vcount==0 or i==c:\n",
        "    cond = False\n",
        "print(i)"
      ],
      "execution_count": 27,
      "outputs": [
        {
          "output_type": "stream",
          "text": [
            "2\n"
          ],
          "name": "stdout"
        }
      ]
    },
    {
      "cell_type": "code",
      "metadata": {
        "id": "SJaNSwUz1AKc",
        "outputId": "7de8f683-a969-4f4a-a943-5f4ed2721559",
        "colab": {
          "base_uri": "https://localhost:8080/"
        }
      },
      "source": [
        "Cs = C.sort_values(by='degree centraliy', ascending=True,ignore_index=True)\n",
        "Cs.head()\n",
        "g_centr = g_new.copy()\n",
        "\n",
        "cond = True\n",
        "i = 0\n",
        "while cond:\n",
        "  g_centr.delete_vertices(Cs.airport[i])\n",
        "  i+=1\n",
        "  if not g_centr.is_connected(mode='WEAK') or g_centr.vcount==0 or i==c:\n",
        "    cond = False\n",
        "print(i)"
      ],
      "execution_count": 28,
      "outputs": [
        {
          "output_type": "stream",
          "text": [
            "178\n"
          ],
          "name": "stdout"
        }
      ]
    },
    {
      "cell_type": "code",
      "metadata": {
        "id": "DnvxVbnDMpqy",
        "outputId": "1f0f7578-6be9-4907-cc62-f184c1b2319a",
        "colab": {
          "base_uri": "https://localhost:8080/"
        }
      },
      "source": [
        "Cs = C.sort_values(by='pagerank', ascending=False,ignore_index=True)\n",
        "Cs.head()\n",
        "g_centr = g_new.copy()\n",
        "\n",
        "cond = True\n",
        "i = 0\n",
        "while cond:\n",
        "  g_centr.delete_vertices(Cs.airport[i])\n",
        "  i+=1\n",
        "  if not g_centr.is_connected(mode='WEAK') or g_centr.vcount==0 or i==c:\n",
        "    cond = False\n",
        "print(i)"
      ],
      "execution_count": 29,
      "outputs": [
        {
          "output_type": "stream",
          "text": [
            "2\n"
          ],
          "name": "stdout"
        }
      ]
    },
    {
      "cell_type": "code",
      "metadata": {
        "id": "PoygXu6qNMrH",
        "outputId": "4915b72e-7c78-4c77-d6e4-b03bf5fc874f",
        "colab": {
          "base_uri": "https://localhost:8080/"
        }
      },
      "source": [
        "Cs = C.sort_values(by='pagerank', ascending=True,ignore_index=True)\n",
        "Cs.head()\n",
        "g_centr = g_new.copy()\n",
        "\n",
        "cond = True\n",
        "i = 0\n",
        "while cond:\n",
        "  g_centr.delete_vertices(Cs.airport[i])\n",
        "  i+=1\n",
        "  if not g_centr.is_connected(mode='WEAK') or g_centr.vcount==0 or i==c:\n",
        "    cond = False\n",
        "print(i)"
      ],
      "execution_count": 30,
      "outputs": [
        {
          "output_type": "stream",
          "text": [
            "35\n"
          ],
          "name": "stdout"
        }
      ]
    },
    {
      "cell_type": "code",
      "metadata": {
        "id": "oc1JNH1nNOkf",
        "outputId": "7fc83fea-56d0-4e36-abbb-b9f15c22f348",
        "colab": {
          "base_uri": "https://localhost:8080/"
        }
      },
      "source": [
        "Cs = C.sort_values(by='authority', ascending=False,ignore_index=True)\n",
        "Cs.head()\n",
        "g_centr = g_new.copy()\n",
        "\n",
        "cond = True\n",
        "i = 0\n",
        "while cond:\n",
        "  g_centr.delete_vertices(Cs.airport[i])\n",
        "  i+=1\n",
        "  if not g_centr.is_connected(mode='WEAK') or g_centr.vcount==0 or i==c:\n",
        "    cond = False\n",
        "print(i)"
      ],
      "execution_count": 31,
      "outputs": [
        {
          "output_type": "stream",
          "text": [
            "2\n"
          ],
          "name": "stdout"
        }
      ]
    },
    {
      "cell_type": "code",
      "metadata": {
        "id": "WKbQ-nMiNUip",
        "outputId": "6688ed1a-a89d-44b1-fec0-83bebe9a2dcb",
        "colab": {
          "base_uri": "https://localhost:8080/"
        }
      },
      "source": [
        "Cs = C.sort_values(by='authority', ascending=True,ignore_index=True)\n",
        "Cs.head()\n",
        "g_centr = g_new.copy()\n",
        "\n",
        "cond = True\n",
        "i = 0\n",
        "while cond:\n",
        "  g_centr.delete_vertices(Cs.airport[i])\n",
        "  i+=1\n",
        "  if not g_centr.is_connected(mode='WEAK') or g_centr.vcount==0 or i==c:\n",
        "    cond = False\n",
        "print(i)"
      ],
      "execution_count": 32,
      "outputs": [
        {
          "output_type": "stream",
          "text": [
            "6\n"
          ],
          "name": "stdout"
        }
      ]
    },
    {
      "cell_type": "code",
      "metadata": {
        "id": "lb17_Vj0T3dp",
        "outputId": "ed1c2772-a7ca-4ca9-ea21-ead26a7dea0a",
        "colab": {
          "base_uri": "https://localhost:8080/"
        }
      },
      "source": [
        "Cs = C.sort_values(by='hub', ascending=False,ignore_index=True)\n",
        "Cs.head()\n",
        "g_centr = g_new.copy()\n",
        "\n",
        "cond = True\n",
        "i = 0\n",
        "while cond:\n",
        "  g_centr.delete_vertices(Cs.airport[i])\n",
        "  i+=1\n",
        "  if not g_centr.is_connected(mode='WEAK') or g_centr.vcount==0 or i==c:\n",
        "    cond = False\n",
        "print(i)"
      ],
      "execution_count": 33,
      "outputs": [
        {
          "output_type": "stream",
          "text": [
            "2\n"
          ],
          "name": "stdout"
        }
      ]
    },
    {
      "cell_type": "code",
      "metadata": {
        "id": "DMy5BsTmT-Fd",
        "outputId": "1d7263ee-6cb3-41d2-c456-94bc7d3bb870",
        "colab": {
          "base_uri": "https://localhost:8080/"
        }
      },
      "source": [
        "Cs = C.sort_values(by='hub', ascending=True,ignore_index=True)\n",
        "Cs.head()\n",
        "g_centr = g_new.copy()\n",
        "\n",
        "cond = True\n",
        "i = 0\n",
        "while cond:\n",
        "  g_centr.delete_vertices(Cs.airport[i])\n",
        "  i+=1\n",
        "  if not g_centr.is_connected(mode='WEAK') or g_centr.vcount==0 or i==c:\n",
        "    cond = False\n",
        "print(i)"
      ],
      "execution_count": 34,
      "outputs": [
        {
          "output_type": "stream",
          "text": [
            "461\n"
          ],
          "name": "stdout"
        }
      ]
    },
    {
      "cell_type": "code",
      "metadata": {
        "id": "quiS-iN-NWRt",
        "outputId": "cec155b4-ec18-4feb-abcc-b044382572e1",
        "colab": {
          "base_uri": "https://localhost:8080/"
        }
      },
      "source": [
        "Cs = C.sort_values(by='between', ascending=False,ignore_index=True)\n",
        "Cs.head()\n",
        "g_centr = g_new.copy()\n",
        "\n",
        "cond = True\n",
        "i = 0\n",
        "while cond:\n",
        "  g_centr.delete_vertices(Cs.airport[i])\n",
        "  i+=1\n",
        "  if not g_centr.is_connected(mode='WEAK') or g_centr.vcount==0 or i==c:\n",
        "    cond = False\n",
        "print(i)"
      ],
      "execution_count": 35,
      "outputs": [
        {
          "output_type": "stream",
          "text": [
            "4\n"
          ],
          "name": "stdout"
        }
      ]
    },
    {
      "cell_type": "code",
      "metadata": {
        "id": "IT_xlAXGNb-9",
        "outputId": "568250d0-c3b6-4df0-c5f7-e200bd31e39e",
        "colab": {
          "base_uri": "https://localhost:8080/"
        }
      },
      "source": [
        "Cs = C.sort_values(by='between', ascending=True,ignore_index=True)\n",
        "Cs.head()\n",
        "g_centr = g_new.copy()\n",
        "\n",
        "cond = True\n",
        "i = 0\n",
        "while cond:\n",
        "  g_centr.delete_vertices(Cs.airport[i])\n",
        "  i+=1\n",
        "  if not g_centr.is_connected(mode='WEAK') or g_centr.vcount==0 or i==c:\n",
        "    cond = False\n",
        "print(i)"
      ],
      "execution_count": 36,
      "outputs": [
        {
          "output_type": "stream",
          "text": [
            "461\n"
          ],
          "name": "stdout"
        }
      ]
    },
    {
      "cell_type": "code",
      "metadata": {
        "id": "RDZq_5boNdeU",
        "outputId": "383986ad-84f6-4b61-d603-07adb46b1ab1",
        "colab": {
          "base_uri": "https://localhost:8080/"
        }
      },
      "source": [
        "Cs = C.sort_values(by='closeness', ascending=False,ignore_index=True)\n",
        "Cs.head()\n",
        "g_centr = g_new.copy()\n",
        "\n",
        "cond = True\n",
        "i = 0\n",
        "while cond:\n",
        "  g_centr.delete_vertices(Cs.airport[i])\n",
        "  i+=1\n",
        "  if not g_centr.is_connected(mode='WEAK') or g_centr.vcount==0 or i==c:\n",
        "    cond = False\n",
        "print(i)"
      ],
      "execution_count": 37,
      "outputs": [
        {
          "output_type": "stream",
          "text": [
            "1\n"
          ],
          "name": "stdout"
        }
      ]
    },
    {
      "cell_type": "code",
      "metadata": {
        "id": "jEDR2Kd9Nnja",
        "outputId": "d8ca15c8-8858-4709-f370-aad3037450d3",
        "colab": {
          "base_uri": "https://localhost:8080/"
        }
      },
      "source": [
        "Cs = C.sort_values(by='closeness', ascending=True,ignore_index=True)\n",
        "Cs.head()\n",
        "g_centr = g_new.copy()\n",
        "\n",
        "cond = True\n",
        "i = 0\n",
        "while cond:\n",
        "  g_centr.delete_vertices(Cs.airport[i])\n",
        "  i+=1\n",
        "  if not g_centr.is_connected(mode='WEAK') or g_centr.vcount==0 or i==c:\n",
        "    cond = False\n",
        "print(i)"
      ],
      "execution_count": 38,
      "outputs": [
        {
          "output_type": "stream",
          "text": [
            "461\n"
          ],
          "name": "stdout"
        }
      ]
    },
    {
      "cell_type": "markdown",
      "metadata": {
        "id": "mTyi4OSzrwck"
      },
      "source": [
        "# Problem 4"
      ]
    },
    {
      "cell_type": "code",
      "metadata": {
        "id": "7HVy5iShj50C"
      },
      "source": [
        "## directed degree centrality\n",
        "def degree_centrality(g, weights=None):\n",
        "    n = g.vcount()\n",
        "    if g.is_directed():\n",
        "        dc = [sum(x)/(2*(n-1)) for x in zip(g.strength(mode='in',weights=weights),\\\n",
        "              g.strength(mode='out',weights=weights))]\n",
        "    else:\n",
        "        dc = [x/(n-1) for x in g.strength(weights=weights)]\n",
        "    return dc"
      ],
      "execution_count": 39,
      "outputs": []
    },
    {
      "cell_type": "code",
      "metadata": {
        "id": "LBnedIkRNq9n",
        "outputId": "490190d0-663e-4ddb-f1d4-510a64cc6c94",
        "colab": {
          "base_uri": "https://localhost:8080/"
        }
      },
      "source": [
        "import timeit\n",
        "degree_centrality_time = []\n",
        "pagerank_time = []\n",
        "authority_time = []\n",
        "hub_time = []\n",
        "betweeness_time = []\n",
        "closeness_time = []\n",
        "N = [625,1250,2500,5000,10000,20000]\n",
        "for n in N:\n",
        "    p = 4/(n-1)\n",
        "    g = ig.Graph.Erdos_Renyi(n=n, p=p)\n",
        "    z = g.shortest_paths()\n",
        "\n",
        "    start = timeit.default_timer()\n",
        "    degree_centrality(g)\n",
        "    stop = timeit.default_timer()\n",
        "    t = stop - start\n",
        "    degree_centrality_time.append(t)\n",
        "\n",
        "    start = timeit.default_timer()\n",
        "    g.pagerank()\n",
        "    stop = timeit.default_timer()\n",
        "    t = stop - start\n",
        "    pagerank_time.append(t)\n",
        "    \n",
        "    start = timeit.default_timer()\n",
        "    g.authority_score()\n",
        "    stop = timeit.default_timer()\n",
        "    t = stop - start\n",
        "    authority_time.append(t)\n",
        "\n",
        "    start = timeit.default_timer()\n",
        "    g.hub_score()\n",
        "    stop = timeit.default_timer()\n",
        "    t = stop - start\n",
        "    hub_time.append(t)\n",
        "\n",
        "    start = timeit.default_timer()\n",
        "    g.betweenness()\n",
        "    stop = timeit.default_timer()\n",
        "    t = stop - start\n",
        "    betweeness_time.append(t)\n",
        "\n",
        "    start = timeit.default_timer()\n",
        "    g.closeness()\n",
        "    stop = timeit.default_timer()\n",
        "    t = stop - start\n",
        "    closeness_time.append(t)\n",
        "\n"
      ],
      "execution_count": 40,
      "outputs": [
        {
          "output_type": "stream",
          "text": [
            "/usr/local/lib/python3.6/dist-packages/ipykernel_launcher.py:45: RuntimeWarning: closeness centrality is not well-defined for disconnected graphs at ../../../source/igraph/src/centrality.c:2874\n"
          ],
          "name": "stderr"
        }
      ]
    },
    {
      "cell_type": "markdown",
      "metadata": {
        "id": "SbDC9ICpsCLg"
      },
      "source": [
        "Degree Centrality Complexity = O(log(n)"
      ]
    },
    {
      "cell_type": "code",
      "metadata": {
        "id": "iJpIthm8rhhK",
        "outputId": "3c328021-a902-4293-b4ae-6f1b0bd6f72e",
        "colab": {
          "base_uri": "https://localhost:8080/",
          "height": 279
        }
      },
      "source": [
        "plt.plot(N,degree_centrality_time,color='skyblue',label = \"Degree Centrality\")\n",
        "plt.xlabel('N')\n",
        "plt.ylabel('Time')\n",
        "plt.legend()\n",
        "plt.show()\n"
      ],
      "execution_count": 41,
      "outputs": [
        {
          "output_type": "display_data",
          "data": {
            "image/png": "[encoded data removed]",
            "text/plain": [
              "<Figure size 432x288 with 1 Axes>"
            ]
          },
          "metadata": {
            "tags": [],
            "needs_background": "light"
          }
        }
      ]
    },
    {
      "cell_type": "markdown",
      "metadata": {
        "id": "smqVZ6lNr5Lm"
      },
      "source": [
        "Pagerank and hub Complexity = O(n)"
      ]
    },
    {
      "cell_type": "code",
      "metadata": {
        "id": "5qk5lueUo2Ty",
        "outputId": "2427d309-e011-4bd4-e8d9-0c184e9ff69a",
        "colab": {
          "base_uri": "https://localhost:8080/",
          "height": 279
        }
      },
      "source": [
        "plt.plot(N,pagerank_time,color='red',label = \"Pagerank\")\n",
        "plt.plot(N,hub_time,color='blue',label = \"Hub\")\n",
        "plt.xlabel('N')\n",
        "plt.ylabel('Time')\n",
        "plt.legend()\n",
        "plt.show()\n"
      ],
      "execution_count": 42,
      "outputs": [
        {
          "output_type": "display_data",
          "data": {
            "image/png": "[encoded data removed]",
            "text/plain": [
              "<Figure size 432x288 with 1 Axes>"
            ]
          },
          "metadata": {
            "tags": [],
            "needs_background": "light"
          }
        }
      ]
    },
    {
      "cell_type": "markdown",
      "metadata": {
        "id": "CV7GtmcLsQ-2"
      },
      "source": [
        "Betweenness and closeness Complexity if of order O(n^2)"
      ]
    },
    {
      "cell_type": "code",
      "metadata": {
        "id": "Hp4ImuuFp_n6",
        "outputId": "cdd84e96-8428-4914-d895-0aea861f8bcc",
        "colab": {
          "base_uri": "https://localhost:8080/",
          "height": 279
        }
      },
      "source": [
        "plt.plot(N,betweeness_time,color='green',label = \"Between\")\n",
        "plt.plot(N,closeness_time,color='black',label = \"Closeness\");\n",
        "plt.xlabel('N')\n",
        "plt.ylabel('Time')\n",
        "plt.legend()\n",
        "plt.show()"
      ],
      "execution_count": 43,
      "outputs": [
        {
          "output_type": "display_data",
          "data": {
            "image/png": "[encoded data removed]",
            "text/plain": [
              "<Figure size 432x288 with 1 Axes>"
            ]
          },
          "metadata": {
            "tags": [],
            "needs_background": "light"
          }
        }
      ]
    },
    {
      "cell_type": "markdown",
      "metadata": {
        "id": "3ORTM14xskz1"
      },
      "source": [
        "Betweenness and closeness Complexity if of order O(n)"
      ]
    },
    {
      "cell_type": "code",
      "metadata": {
        "id": "RNOQqo65rQsA",
        "outputId": "835fabf3-7035-44a1-a61a-0cfbaff92aa4",
        "colab": {
          "base_uri": "https://localhost:8080/",
          "height": 279
        }
      },
      "source": [
        "plt.plot(N,authority_time,color='olive',label = \"Authority\")\n",
        "plt.xlabel('N')\n",
        "plt.ylabel('Time')\n",
        "plt.legend()\n",
        "plt.show()\n",
        "\n"
      ],
      "execution_count": 44,
      "outputs": [
        {
          "output_type": "display_data",
          "data": {
            "image/png": "[encoded data removed]",
            "text/plain": [
              "<Figure size 432x288 with 1 Axes>"
            ]
          },
          "metadata": {
            "tags": [],
            "needs_background": "light"
          }
        }
      ]
    },
    {
      "cell_type": "code",
      "metadata": {
        "id": "hjC6tKT0sz3_",
        "outputId": "a98ed9fb-d9c0-4747-89c8-b3bdbb2e6ca8",
        "colab": {
          "base_uri": "https://localhost:8080/"
        }
      },
      "source": [
        "import timeit\n",
        "degree_centrality_time = []\n",
        "pagerank_time = []\n",
        "authority_time = []\n",
        "hub_time = []\n",
        "betweeness_time = []\n",
        "closeness_time = []\n",
        "N = [625,1250,2500,5000,10000,20000]\n",
        "for n in N:\n",
        "    p = 8/(n-1)\n",
        "    g = ig.Graph.Erdos_Renyi(n=n, p=p)\n",
        "    z = g.shortest_paths()\n",
        "\n",
        "    start = timeit.default_timer()\n",
        "    degree_centrality(g)\n",
        "    stop = timeit.default_timer()\n",
        "    t = stop - start\n",
        "    degree_centrality_time.append(t)\n",
        "\n",
        "    start = timeit.default_timer()\n",
        "    g.pagerank()\n",
        "    stop = timeit.default_timer()\n",
        "    t = stop - start\n",
        "    pagerank_time.append(t)\n",
        "    \n",
        "    start = timeit.default_timer()\n",
        "    g.authority_score()\n",
        "    stop = timeit.default_timer()\n",
        "    t = stop - start\n",
        "    authority_time.append(t)\n",
        "\n",
        "    start = timeit.default_timer()\n",
        "    g.hub_score()\n",
        "    stop = timeit.default_timer()\n",
        "    t = stop - start\n",
        "    hub_time.append(t)\n",
        "\n",
        "    start = timeit.default_timer()\n",
        "    g.betweenness()\n",
        "    stop = timeit.default_timer()\n",
        "    t = stop - start\n",
        "    betweeness_time.append(t)\n",
        "\n",
        "    start = timeit.default_timer()\n",
        "    g.closeness()\n",
        "    stop = timeit.default_timer()\n",
        "    t = stop - start\n",
        "    closeness_time.append(t)\n",
        "\n"
      ],
      "execution_count": 45,
      "outputs": [
        {
          "output_type": "stream",
          "text": [
            "/usr/local/lib/python3.6/dist-packages/ipykernel_launcher.py:45: RuntimeWarning: closeness centrality is not well-defined for disconnected graphs at ../../../source/igraph/src/centrality.c:2874\n"
          ],
          "name": "stderr"
        }
      ]
    },
    {
      "cell_type": "code",
      "metadata": {
        "id": "FOG5MrksuxBP",
        "outputId": "0f2e0c7e-0d73-4b09-98fe-e32387c2c26a",
        "colab": {
          "base_uri": "https://localhost:8080/",
          "height": 279
        }
      },
      "source": [
        "plt.plot(N,degree_centrality_time,color='skyblue',label = \"Degree Centrality\")\n",
        "plt.xlabel('N')\n",
        "plt.ylabel('Time')\n",
        "plt.legend()\n",
        "plt.show()\n"
      ],
      "execution_count": 46,
      "outputs": [
        {
          "output_type": "display_data",
          "data": {
            "image/png": "[encoded data removed]",
            "text/plain": [
              "<Figure size 432x288 with 1 Axes>"
            ]
          },
          "metadata": {
            "tags": [],
            "needs_background": "light"
          }
        }
      ]
    },
    {
      "cell_type": "code",
      "metadata": {
        "id": "pYpShujbu5LZ",
        "outputId": "ef8c8086-8238-4822-e920-e7c5ac9aaa0a",
        "colab": {
          "base_uri": "https://localhost:8080/",
          "height": 279
        }
      },
      "source": [
        "plt.plot(N,pagerank_time,color='red',label = \"Pagerank\")\n",
        "plt.plot(N,hub_time,color='blue',label = \"Hub\")\n",
        "plt.xlabel('N')\n",
        "plt.ylabel('Time')\n",
        "plt.legend()\n",
        "plt.show()\n"
      ],
      "execution_count": 47,
      "outputs": [
        {
          "output_type": "display_data",
          "data": {
            "image/png": "[encoded data removed]",
            "text/plain": [
              "<Figure size 432x288 with 1 Axes>"
            ]
          },
          "metadata": {
            "tags": [],
            "needs_background": "light"
          }
        }
      ]
    },
    {
      "cell_type": "code",
      "metadata": {
        "id": "G9snh89Mu7Gh",
        "outputId": "69381546-4af0-43e3-9191-f0f9bc332d1f",
        "colab": {
          "base_uri": "https://localhost:8080/",
          "height": 280
        }
      },
      "source": [
        "plt.plot(N,betweeness_time,color='green',label = \"Between\")\n",
        "plt.plot(N,closeness_time,color='black',label = \"Closeness\");\n",
        "plt.xlabel('N')\n",
        "plt.ylabel('Time')\n",
        "plt.legend()\n",
        "plt.show()"
      ],
      "execution_count": 48,
      "outputs": [
        {
          "output_type": "display_data",
          "data": {
            "image/png": "[encoded data removed]",
            "text/plain": [
              "<Figure size 432x288 with 1 Axes>"
            ]
          },
          "metadata": {
            "tags": [],
            "needs_background": "light"
          }
        }
      ]
    },
    {
      "cell_type": "code",
      "metadata": {
        "id": "-qnS27-Qu-93",
        "outputId": "15bdae55-47e5-4817-bd1d-c2d1a2a733c8",
        "colab": {
          "base_uri": "https://localhost:8080/",
          "height": 279
        }
      },
      "source": [
        "plt.plot(N,authority_time,color='olive',label = \"Authority\")\n",
        "plt.xlabel('N')\n",
        "plt.ylabel('Time')\n",
        "plt.legend()\n",
        "plt.show()\n",
        "\n"
      ],
      "execution_count": 49,
      "outputs": [
        {
          "output_type": "display_data",
          "data": {
            "image/png": "[encoded data removed]",
            "text/plain": [
              "<Figure size 432x288 with 1 Axes>"
            ]
          },
          "metadata": {
            "tags": [],
            "needs_background": "light"
          }
        }
      ]
    }
  ]
}